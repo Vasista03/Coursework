{
 "cells": [
  {
   "cell_type": "code",
   "execution_count": 78,
   "id": "3bf74fd2",
   "metadata": {},
   "outputs": [
    {
     "name": "stdout",
     "output_type": "stream",
     "text": [
      "Requirement already satisfied: pandas in d:\\coursework\\assignments\\.venv\\lib\\site-packages (2.3.2)\n",
      "Requirement already satisfied: numpy>=1.26.0 in d:\\coursework\\assignments\\.venv\\lib\\site-packages (from pandas) (2.3.2)\n",
      "Requirement already satisfied: python-dateutil>=2.8.2 in d:\\coursework\\assignments\\.venv\\lib\\site-packages (from pandas) (2.9.0.post0)\n",
      "Requirement already satisfied: pytz>=2020.1 in d:\\coursework\\assignments\\.venv\\lib\\site-packages (from pandas) (2025.2)\n",
      "Requirement already satisfied: tzdata>=2022.7 in d:\\coursework\\assignments\\.venv\\lib\\site-packages (from pandas) (2025.2)\n",
      "Requirement already satisfied: six>=1.5 in d:\\coursework\\assignments\\.venv\\lib\\site-packages (from python-dateutil>=2.8.2->pandas) (1.17.0)\n"
     ]
    }
   ],
   "source": [
    "!pip install pandas"
   ]
  },
  {
   "cell_type": "code",
   "execution_count": 79,
   "id": "65c09e0c",
   "metadata": {},
   "outputs": [],
   "source": [
    "import pandas as pd"
   ]
  },
  {
   "cell_type": "code",
   "execution_count": 80,
   "id": "6742bf74",
   "metadata": {},
   "outputs": [
    {
     "name": "stdout",
     "output_type": "stream",
     "text": [
      "A    100\n",
      "B    200\n",
      "C    300\n",
      "D    400\n",
      "E    500\n",
      "dtype: int64\n",
      "A     200\n",
      "B     400\n",
      "C     600\n",
      "D     800\n",
      "E    1000\n",
      "dtype: int64\n"
     ]
    }
   ],
   "source": [
    "#1.\n",
    "\n",
    "Series1 = pd.Series([100, 200, 300, 400, 500], index=['A', 'B', 'C', 'D', 'E'])\n",
    "Series2 = Series1 * 2\n",
    "print(Series1)\n",
    "print(Series2)\n",
    "\n",
    "\n"
   ]
  },
  {
   "cell_type": "markdown",
   "id": "d85de6d4",
   "metadata": {},
   "source": [
    "#2 State whether True or False\n",
    "\n",
    "a. A series object is size mutable.\n",
    "\n",
    "   False, Series object is not size mutable it is immutable.\n",
    "\n",
    "b. A Dataframe object is value mutable\n",
    "\n",
    "   True, DataFrame object is size mutable."
   ]
  },
  {
   "cell_type": "code",
   "execution_count": 81,
   "id": "35d7b628",
   "metadata": {},
   "outputs": [
    {
     "name": "stdout",
     "output_type": "stream",
     "text": [
      "Series1:\n",
      "200    700\n",
      "201    700\n",
      "202    700\n",
      "203    700\n",
      "204    700\n",
      "dtype: int64\n"
     ]
    }
   ],
   "source": [
    "#3\n",
    "\n",
    "Series1 = pd.Series(700,index=[200, 201, 202, 203, 204])\n",
    "\n",
    "print(\"Series1:\")\n",
    "print(Series1)\n"
   ]
  },
  {
   "cell_type": "code",
   "execution_count": 82,
   "id": "080d7762",
   "metadata": {},
   "outputs": [
    {
     "name": "stdout",
     "output_type": "stream",
     "text": [
      "IP           95\n",
      "Physics      89\n",
      "Chemistry    92\n",
      "Math         95\n",
      "dtype: int64\n",
      "\n",
      "\n",
      "Marks in IP: 95\n",
      "\n",
      "After adding 10 marks:\n",
      " IP           105\n",
      "Physics       99\n",
      "Chemistry    102\n",
      "Math         105\n",
      "dtype: int64\n"
     ]
    }
   ],
   "source": [
    "#4\n",
    "\n",
    "s = pd.Series([95, 89, 92, 95], index=['IP', 'Physics', 'Chemistry', 'Math'])\n",
    "\n",
    "print(s)\n",
    "# i. Display only IP\n",
    "print(\"\\n\\nMarks in IP:\", s['IP'])\n",
    "\n",
    "# ii. Increase marks of all subjects by 10\n",
    "s = s + 10\n",
    "print(\"\\nAfter adding 10 marks:\\n\", s)\n"
   ]
  },
  {
   "cell_type": "code",
   "execution_count": 83,
   "id": "9639c272",
   "metadata": {},
   "outputs": [
    {
     "name": "stdout",
     "output_type": "stream",
     "text": [
      "QTR1    50000\n",
      "QTR2    65890\n",
      "QTR3    56780\n",
      "QTR4    89000\n",
      "QTR5    77900\n",
      "dtype: int64\n"
     ]
    }
   ],
   "source": [
    "#5\n",
    "\n",
    "SQTR=pd.Series([50000,65890,56780,89000,77900],index=['QTR1','QTR2','QTR3','QTR4','QTR5'])\n",
    "print(SQTR)"
   ]
  },
  {
   "cell_type": "markdown",
   "id": "0359c83e",
   "metadata": {},
   "source": [
    "#6\n",
    "\n",
    "S1=pd.Series(data=[31,41,51])\n",
    "print(S1>40)------------------------>FALSE,TRUE,TRUE\n",
    "print(S1[S1>40])-------------------->41,51\n"
   ]
  },
  {
   "cell_type": "code",
   "execution_count": 84,
   "id": "98c898b4",
   "metadata": {},
   "outputs": [
    {
     "name": "stdout",
     "output_type": "stream",
     "text": [
      "A    3900\n",
      "B    4100\n",
      "dtype: int64\n",
      "A    390\n",
      "B    410\n",
      "C    420\n",
      "D    440\n",
      "dtype: int64\n",
      "D    100\n",
      "C    100\n",
      "B    100\n",
      "A    100\n",
      "dtype: int64\n"
     ]
    }
   ],
   "source": [
    "#7\n",
    "\n",
    "S1=pd.Series([39,41,42,44],index=['A','B','C','D'])\n",
    "S2=pd.Series([10,10,10,10],index=['A','B','C','D'])\n",
    "SER1=S1[:2]*100\n",
    "print(SER1)\n",
    "SER2=S1*S2\n",
    "print(SER2)\n",
    "SER3=S2[::-1]*10\n",
    "print(SER3)\n"
   ]
  },
  {
   "cell_type": "code",
   "execution_count": 85,
   "id": "feb3f5f7",
   "metadata": {},
   "outputs": [
    {
     "name": "stdout",
     "output_type": "stream",
     "text": [
      "A     50\n",
      "B     80\n",
      "C    180\n",
      "D    320\n",
      "dtype: int64\n"
     ]
    }
   ],
   "source": [
    "#8\n",
    "\n",
    "S1 = pd.Series([10,20,30,40],index=['A','B','C','D'])\n",
    "S2 = pd.Series([5,4,6,8],index=['A','B','C','D'])\n",
    "print(S1*S2)\n"
   ]
  },
  {
   "cell_type": "code",
   "execution_count": 86,
   "id": "5033e349",
   "metadata": {},
   "outputs": [
    {
     "data": {
      "text/plain": [
       "ENGLISH    75\n",
       "HINDI      78\n",
       "MATHS      82\n",
       "SCIENCE    86\n",
       "dtype: int64"
      ]
     },
     "execution_count": 86,
     "metadata": {},
     "output_type": "execute_result"
    }
   ],
   "source": [
    "#9\n",
    "\n",
    "S1=pd.Series([75,78,82,86],index=['ENGLISH','HINDI','MATHS','SCIENCE'])\n",
    "S1"
   ]
  },
  {
   "cell_type": "code",
   "execution_count": 87,
   "id": "ec46cb10",
   "metadata": {},
   "outputs": [
    {
     "name": "stdout",
     "output_type": "stream",
     "text": [
      "TCS    350\n",
      "L&T    800\n",
      "dtype: int64\n",
      "PROFIT\n"
     ]
    }
   ],
   "source": [
    "#10\n",
    "\n",
    "S1=pd.Series([350,200,800,150],index=['TCS','REALIANCE','L&T','WIPRO'])\n",
    "print(S1[S1>250])\n",
    "S1.name='PROFIT'\n",
    "print(S1.name)"
   ]
  },
  {
   "cell_type": "code",
   "execution_count": 88,
   "id": "18cbe807",
   "metadata": {},
   "outputs": [
    {
     "name": "stdout",
     "output_type": "stream",
     "text": [
      "[10, 20, 25, 50, 10, 20, 25, 50]\n",
      "0     20\n",
      "1     40\n",
      "2     50\n",
      "3    100\n",
      "dtype: int64\n"
     ]
    }
   ],
   "source": [
    "#11\n",
    "\n",
    "a=[10,20,25,50]\n",
    "b=pd.Series(a)\n",
    "print(a*2)#printing twice \n",
    "print(b*2)#multipying"
   ]
  },
  {
   "cell_type": "markdown",
   "id": "12dee7cb",
   "metadata": {},
   "source": [
    "#12\n",
    "\n",
    "Given a Pandas series called Sample, the\n",
    "command which will display the last 3 rows\n",
    "is.\n",
    "\n",
    "a. print(Sample.tail(3)) #CORRECT \n",
    "\n",
    "b. print(Sample.Tail(3))\n",
    "\n",
    "c. print(Sample.tails(3)) \n",
    "\n",
    "d. print(Sample.Tails(3))\n"
   ]
  },
  {
   "cell_type": "code",
   "execution_count": 89,
   "id": "c695f273",
   "metadata": {},
   "outputs": [
    {
     "name": "stdout",
     "output_type": "stream",
     "text": [
      "0    6\n",
      "1    6\n",
      "2    6\n",
      "3    6\n",
      "4    6\n",
      "dtype: int64\n"
     ]
    }
   ],
   "source": [
    "#13\n",
    "\n",
    "import pandas as pd\n",
    "s = pd.Series(6,index=range(0,5))\n",
    "print(s)\n"
   ]
  },
  {
   "cell_type": "code",
   "execution_count": 90,
   "id": "9fa96f0f",
   "metadata": {},
   "outputs": [
    {
     "name": "stdout",
     "output_type": "stream",
     "text": [
      "Original Series:\n",
      " 1     6\n",
      "3     1\n",
      "5     3\n",
      "7     5\n",
      "9     4\n",
      "11    8\n",
      "13    7\n",
      "15    4\n",
      "17    6\n",
      "19    7\n",
      "dtype: int64\n",
      "\n",
      "Result of s1[3:6]:\n",
      " 7     5\n",
      "9     4\n",
      "11    8\n",
      "dtype: int64\n"
     ]
    }
   ],
   "source": [
    "#14\n",
    "\n",
    "s1 = pd.Series(\n",
    "    [6, 1, 3, 5, 4, 8, 7, 4, 6, 7],\n",
    "    index=[1, 3, 5, 7, 9, 11, 13, 15, 17, 19]\n",
    ")\n",
    "\n",
    "print(\"Original Series:\\n\", s1)\n",
    "\n",
    "print(\"\\nResult of s1[3:6]:\\n\", s1[3:6])\n"
   ]
  },
  {
   "cell_type": "code",
   "execution_count": 91,
   "id": "a2ca9e3d",
   "metadata": {},
   "outputs": [
    {
     "name": "stdout",
     "output_type": "stream",
     "text": [
      "0    10\n",
      "1    20\n",
      "2    30\n",
      "3    40\n",
      "dtype: int64\n",
      "1\n",
      "(4,)\n",
      "4\n"
     ]
    }
   ],
   "source": [
    "#15\n",
    "\n",
    "import pandas as pd\n",
    "import numpy as np\n",
    "s = pd.Series(np.arange(10,50,10))\n",
    "print(s)\n",
    "print (s.ndim)\n",
    "print(s.shape)\n",
    "print(len(s))"
   ]
  },
  {
   "cell_type": "code",
   "execution_count": 92,
   "id": "3077e2a2",
   "metadata": {},
   "outputs": [
    {
     "data": {
      "text/plain": [
       "0    17\n",
       "1    16\n",
       "2    16\n",
       "3    18\n",
       "4    19\n",
       "5    19\n",
       "6    19\n",
       "7    10\n",
       "8    14\n",
       "9    17\n",
       "dtype: int32"
      ]
     },
     "execution_count": 92,
     "metadata": {},
     "output_type": "execute_result"
    }
   ],
   "source": [
    "#16\n",
    "\n",
    "R=np.random.randint(10,20,size=10)\n",
    "S=pd.Series(R)\n",
    "S"
   ]
  },
  {
   "cell_type": "code",
   "execution_count": 93,
   "id": "493e7ea1",
   "metadata": {},
   "outputs": [
    {
     "name": "stdout",
     "output_type": "stream",
     "text": [
      "0     5.0\n",
      "1     6.0\n",
      "2     8.0\n",
      "3     NaN\n",
      "4     2.0\n",
      "5    11.0\n",
      "dtype: float64\n"
     ]
    },
    {
     "data": {
      "text/plain": [
       "0     5.0\n",
       "1     6.0\n",
       "2     8.0\n",
       "3     0.0\n",
       "4     2.0\n",
       "5    11.0\n",
       "dtype: float64"
      ]
     },
     "execution_count": 93,
     "metadata": {},
     "output_type": "execute_result"
    }
   ],
   "source": [
    "#17\n",
    "\n",
    "s=pd.Series([4.0,5.0,7.0,np.nan,1.0,10.0])\n",
    "s+=1\n",
    "print(s)\n",
    "s=s.fillna(0)\n",
    "s"
   ]
  },
  {
   "cell_type": "code",
   "execution_count": 94,
   "id": "38876aa5",
   "metadata": {},
   "outputs": [
    {
     "name": "stdout",
     "output_type": "stream",
     "text": [
      "one      a\n",
      "two      b\n",
      "three    c\n",
      "dtype: object\n",
      "3\n"
     ]
    }
   ],
   "source": [
    "#18\n",
    "\n",
    "import pandas as pd\n",
    "import numpy as np\n",
    "data = {'one':'a','two':'b','three':'c'}\n",
    "s=pd.Series(data)\n",
    "print(s)\n",
    "print(s.size)\n"
   ]
  },
  {
   "cell_type": "code",
   "execution_count": 95,
   "id": "9d6d271b",
   "metadata": {},
   "outputs": [
    {
     "data": {
      "text/plain": [
       "0    2\n",
       "1    4\n",
       "2    6\n",
       "3    8\n",
       "dtype: int64"
      ]
     },
     "execution_count": 95,
     "metadata": {},
     "output_type": "execute_result"
    }
   ],
   "source": [
    "#19\n",
    "\n",
    "s=pd.Series(np.arange(2,9,2))\n",
    "s"
   ]
  },
  {
   "cell_type": "code",
   "execution_count": 96,
   "id": "6a03d2c0",
   "metadata": {},
   "outputs": [
    {
     "name": "stdout",
     "output_type": "stream",
     "text": [
      "0          i\n",
      "1         am\n",
      "2          a\n",
      "3    student\n",
      "dtype: object\n"
     ]
    }
   ],
   "source": [
    "#20\n",
    "\n",
    "s2=pd.Series([\"i\",\"am\", \"a\",\"student\"])\n",
    "print(s2)\n"
   ]
  },
  {
   "cell_type": "code",
   "execution_count": 97,
   "id": "c681035e",
   "metadata": {},
   "outputs": [
    {
     "name": "stdout",
     "output_type": "stream",
     "text": [
      "2     200\n",
      "4     200\n",
      "6     200\n",
      "8     200\n",
      "10    200\n",
      "12    200\n",
      "dtype: int64\n"
     ]
    }
   ],
   "source": [
    "#21\n",
    "\n",
    "s1=pd.Series(200,index=range(2,13,2))\n",
    "print(s1)\n"
   ]
  },
  {
   "cell_type": "code",
   "execution_count": 98,
   "id": "06c991c3",
   "metadata": {},
   "outputs": [
    {
     "name": "stdout",
     "output_type": "stream",
     "text": [
      "a     2\n",
      "b     4\n",
      "c     6\n",
      "d     8\n",
      "e    10\n",
      "dtype: int64\n"
     ]
    }
   ],
   "source": [
    "#22\n",
    "\n",
    "s1=pd.Series(range(2,11,2), index=[x for x in\"abcde\"])\n",
    "print(s1)\n"
   ]
  },
  {
   "cell_type": "code",
   "execution_count": 99,
   "id": "aa84ada0",
   "metadata": {},
   "outputs": [
    {
     "name": "stdout",
     "output_type": "stream",
     "text": [
      "10    20\n",
      "11    22\n",
      "12    24\n",
      "13    26\n",
      "14    28\n",
      "dtype: int64\n",
      "10    100\n",
      "11    121\n",
      "12    144\n",
      "13    169\n",
      "14    196\n",
      "dtype: int64\n"
     ]
    }
   ],
   "source": [
    "#23\n",
    "x=np.arange(10,15)\n",
    "s3=pd.Series(index=x, data=x*2)\n",
    "s4=pd.Series(x**2,x)\n",
    "print(s3)\n",
    "print(s4)\n"
   ]
  },
  {
   "cell_type": "code",
   "execution_count": 100,
   "id": "b2f497b2",
   "metadata": {},
   "outputs": [
    {
     "data": {
      "text/plain": [
       "A    17800.0\n",
       "B    17400.0\n",
       "C    15600.0\n",
       "D    13000.0\n",
       "E        0.0\n",
       "dtype: float64"
      ]
     },
     "execution_count": 100,
     "metadata": {},
     "output_type": "execute_result"
    }
   ],
   "source": [
    "#24\n",
    "\n",
    "con=pd.Series([8900,8700,7800,6500,np.nan],index=['A','B','C','D','E'])\n",
    "con=con.fillna(0)\n",
    "con=con*2\n",
    "con"
   ]
  },
  {
   "cell_type": "code",
   "execution_count": 101,
   "id": "3acf74bc",
   "metadata": {},
   "outputs": [
    {
     "name": "stdout",
     "output_type": "stream",
     "text": [
      "a     5.25\n",
      "b    15.50\n",
      "a    25.75\n",
      "a    36.00\n",
      "b    46.25\n",
      "dtype: float64\n",
      "a     5.25\n",
      "a    25.75\n",
      "a    36.00\n",
      "dtype: float64\n",
      "b    15.50\n",
      "b    46.25\n",
      "dtype: float64\n"
     ]
    }
   ],
   "source": [
    "#25\n",
    "\n",
    "val1=np.arange(5.25,50,10.25)\n",
    "ser1=pd.Series(val1,index=['a','b','a','a','b'])\n",
    "print(ser1)\n",
    "print(ser1['a'])\n",
    "print(ser1['b'])\n"
   ]
  },
  {
   "cell_type": "code",
   "execution_count": 102,
   "id": "7c8d191d",
   "metadata": {},
   "outputs": [
    {
     "name": "stdout",
     "output_type": "stream",
     "text": [
      "A    39\n",
      "B    31\n",
      "C    32\n",
      "D    34\n",
      "E    35\n",
      "dtype: int64\n",
      "3900\n",
      "3100\n",
      "7000\n"
     ]
    }
   ],
   "source": [
    "#26\n",
    "\n",
    "s10=pd.Series([39,31,32,34,35],index=['A','B','C','D','E'])\n",
    "print(s10)\n",
    "sA=s10['A']*100\n",
    "print(sA)\n",
    "sB=s10['B']*100\n",
    "print(sB)\n",
    "tot=sA + sB\n",
    "print(tot)"
   ]
  },
  {
   "cell_type": "code",
   "execution_count": 103,
   "id": "39dcc411",
   "metadata": {},
   "outputs": [
    {
     "name": "stdout",
     "output_type": "stream",
     "text": [
      "0     1.75\n",
      "1    17.45\n",
      "2   -23.74\n",
      "3   -23.74\n",
      "4    33.76\n",
      "dtype: float64\n"
     ]
    }
   ],
   "source": [
    "#27\n",
    "\n",
    "S4 =pd.Series([2.50, 17.45, 20.25, 87.25, 33.76])\n",
    "S4[0]=1.75\n",
    "S4[2:4]= -23.74\n",
    "print(S4)\n"
   ]
  },
  {
   "cell_type": "code",
   "execution_count": 104,
   "id": "4f0db853",
   "metadata": {},
   "outputs": [
    {
     "name": "stdout",
     "output_type": "stream",
     "text": [
      "a      2.0\n",
      "b    345.6\n",
      "c      4.0\n",
      "d    345.6\n",
      "e      6.0\n",
      "dtype: float64\n",
      "a      2.00\n",
      "b    345.60\n",
      "c    -14.65\n",
      "d    -14.65\n",
      "e      6.00\n",
      "dtype: float64\n"
     ]
    },
    {
     "name": "stderr",
     "output_type": "stream",
     "text": [
      "C:\\Users\\Sravanthi\\AppData\\Local\\Temp\\ipykernel_26060\\580383414.py:4: FutureWarning: Setting an item of incompatible dtype is deprecated and will raise an error in a future version of pandas. Value '345.6' has dtype incompatible with int64, please explicitly cast to a compatible dtype first.\n",
      "  s1[1:5:2]=345.6\n"
     ]
    }
   ],
   "source": [
    "#28\n",
    "\n",
    "s1=pd.Series([2,3,4,5,6],index=['a','b','c','d','e'])\n",
    "s1[1:5:2]=345.6\n",
    "print(s1)\n",
    "s1[2:4]= -14.65\n",
    "print(s1)"
   ]
  },
  {
   "cell_type": "code",
   "execution_count": 105,
   "id": "aabdeff9",
   "metadata": {},
   "outputs": [
    {
     "data": {
      "text/plain": [
       "A    8800\n",
       "B    8000\n",
       "C    7700\n",
       "D    7700\n",
       "dtype: int64"
      ]
     },
     "execution_count": 105,
     "metadata": {},
     "output_type": "execute_result"
    }
   ],
   "source": [
    "#29\n",
    "\n",
    "s12=pd.Series([6700,8000,5400,3400],index=['A','B','C','D'])\n",
    "s12['A']=8800\n",
    "s12['C'] = 7700\n",
    "s12['D'] = 7700\n",
    "\n",
    "s12\n"
   ]
  },
  {
   "cell_type": "markdown",
   "id": "4db77f33",
   "metadata": {},
   "source": [
    "#30\n",
    "\n",
    "Considering Series object S then,\n",
    "\n",
    "s.head(100) for first 100\n",
    "\n",
    "s.tail() for last 5 as by default .tail() calls 5"
   ]
  },
  {
   "cell_type": "code",
   "execution_count": null,
   "id": "21ccc9cc",
   "metadata": {},
   "outputs": [
    {
     "name": "stdout",
     "output_type": "stream",
     "text": [
      "a     4.5\n",
      "b     6.0\n",
      "c     7.5\n",
      "d     9.0\n",
      "e    10.5\n",
      "dtype: float64\n",
      "a     3.0\n",
      "b     6.0\n",
      "c     9.0\n",
      "d    12.0\n",
      "e    15.0\n",
      "dtype: float64\n",
      "a    False\n",
      "b    False\n",
      "c     True\n",
      "d     True\n",
      "e     True\n",
      "dtype: bool\n",
      "c    4.5\n",
      "d    6.0\n",
      "e    7.5\n",
      "dtype: float64\n"
     ]
    }
   ],
   "source": [
    "#31\n",
    "\n",
    "s3=pd.Series([1.5,3.0,4.5,6.0,7.5],index=['a','b','c','d','e'])\n",
    "print(s3+3)\n",
    "print(s3*2)\n",
    "print(s3>3.0)\n",
    "print(s3[s3>3.0])\n",
    "\n"
   ]
  },
  {
   "cell_type": "code",
   "execution_count": 109,
   "id": "c9c0e72f",
   "metadata": {},
   "outputs": [
    {
     "data": {
      "text/plain": [
       "0    6700\n",
       "1    8000\n",
       "2    5400\n",
       "3    3400\n",
       "dtype: int64"
      ]
     },
     "execution_count": 109,
     "metadata": {},
     "output_type": "execute_result"
    }
   ],
   "source": [
    "#32\n",
    "\n",
    "s12=pd.Series([6700,8000,5400,3400])\n",
    "s12\n"
   ]
  },
  {
   "cell_type": "code",
   "execution_count": 112,
   "id": "165e6dcb",
   "metadata": {},
   "outputs": [
    {
     "name": "stdout",
     "output_type": "stream",
     "text": [
      "A    6700\n",
      "B    8000\n",
      "dtype: int64\n"
     ]
    }
   ],
   "source": [
    "#33\n",
    "\n",
    "sec=pd.Series([6700,8000,5400,3400],index=['A','B','C','D'])\n",
    "print(sec[sec>5600])"
   ]
  },
  {
   "cell_type": "code",
   "execution_count": 114,
   "id": "723959d0",
   "metadata": {},
   "outputs": [
    {
     "name": "stdout",
     "output_type": "stream",
     "text": [
      "1     0\n",
      "2    10\n",
      "3    20\n",
      "4    30\n",
      "5    40\n",
      "dtype: int64\n",
      "0    0\n",
      "1    1\n",
      "2    2\n",
      "3    3\n",
      "4    4\n",
      "5    5\n",
      "6    6\n",
      "dtype: int64\n",
      "a     5\n",
      "b    10\n",
      "c    15\n",
      "d    20\n",
      "e    25\n",
      "dtype: int64\n",
      "0     NaN\n",
      "1     1.0\n",
      "2    12.0\n",
      "3    23.0\n",
      "4    34.0\n",
      "5    45.0\n",
      "6     NaN\n",
      "dtype: float64\n",
      "1   NaN\n",
      "2   NaN\n",
      "3   NaN\n",
      "4   NaN\n",
      "5   NaN\n",
      "a   NaN\n",
      "b   NaN\n",
      "c   NaN\n",
      "d   NaN\n",
      "e   NaN\n",
      "dtype: float64\n",
      "0     NaN\n",
      "1    -1.0\n",
      "2     8.0\n",
      "3    17.0\n",
      "4    26.0\n",
      "5    35.0\n",
      "6     NaN\n",
      "dtype: float64\n"
     ]
    }
   ],
   "source": [
    "#34\n",
    "\n",
    "S1 = pd.Series([0, 10, 20, 30, 40], index=[1, 2, 3, 4, 5])\n",
    "print(S1)\n",
    "# Series S2\n",
    "S2 = pd.Series([0, 1, 2, 3, 4, 5, 6])\n",
    "print(S2)\n",
    "# Series S3\n",
    "S3 = pd.Series([5, 10, 15, 20, 25], index=['a', 'b', 'c', 'd', 'e'])\n",
    "print(S3)\n",
    "print(S1+S2)\n",
    "print(S1*S3)\n",
    "print(S1-S2)\n"
   ]
  },
  {
   "cell_type": "code",
   "execution_count": 121,
   "id": "6b2babe4",
   "metadata": {},
   "outputs": [
    {
     "name": "stdout",
     "output_type": "stream",
     "text": [
      "[8000, 6700, 5400, 3400]\n",
      "A    8000\n",
      "B    5400\n",
      "C    3400\n",
      "D    6700\n",
      "dtype: int64\n"
     ]
    }
   ],
   "source": [
    "#35\n",
    "\n",
    "s12=pd.Series([6700,8000,5400,3400],index=['D','A','B','C'])\n",
    "print(sorted(s12,reverse=True))\n",
    "print(s12.sort_index())"
   ]
  },
  {
   "cell_type": "code",
   "execution_count": 124,
   "id": "3274f70c",
   "metadata": {},
   "outputs": [
    {
     "name": "stdout",
     "output_type": "stream",
     "text": [
      "0    6700\n",
      "1    8000\n",
      "2    5400\n",
      "3    3400\n",
      "dtype: int64\n"
     ]
    }
   ],
   "source": [
    "#36\n",
    "\n",
    "s13=pd.Series([6700,8000,5400,3400],index=['A','B','C','D'])\n",
    "\n",
    "# s13.index=range(0,5)\n",
    "s13.index=range(0,4)\n",
    "#ZERO IS COUNTED IN RANGE 0,1,2,3,4 ARE 5 NUMBERS\n",
    "\n",
    "print(s13)"
   ]
  },
  {
   "cell_type": "code",
   "execution_count": 125,
   "id": "ea0af6e8",
   "metadata": {},
   "outputs": [
    {
     "name": "stdout",
     "output_type": "stream",
     "text": [
      "Series1:\n",
      "0    7\n",
      "1    8\n",
      "2    9\n",
      "3    7\n",
      "4    8\n",
      "5    9\n",
      "dtype: int64\n",
      "Series2:\n",
      "0    14\n",
      "1    16\n",
      "2    18\n",
      "dtype: int64\n"
     ]
    }
   ],
   "source": [
    "#37\n",
    "\n",
    "import pandas as pd\n",
    "first=[7,8,9]\n",
    "second=pd.Series(first)\n",
    "s1=pd.Series(data=first*2)\n",
    "s2=pd.Series(data=second*2)\n",
    "print(\"Series1:\")\n",
    "print(s1)\n",
    "print(\"Series2:\")\n",
    "print(s2)"
   ]
  },
  {
   "cell_type": "code",
   "execution_count": 127,
   "id": "de17b600",
   "metadata": {},
   "outputs": [
    {
     "name": "stdout",
     "output_type": "stream",
     "text": [
      "0    Mon\n",
      "1    Tue\n",
      "2    Wed\n",
      "3    Thu\n",
      "dtype: object\n",
      "3    Thu\n",
      "4    Fri\n",
      "5    Sat\n",
      "6    Sun\n",
      "dtype: object\n"
     ]
    }
   ],
   "source": [
    "#38\n",
    "\n",
    "data=np.array(['Mon','Tue','Wed','Thu','Fri','Sat','Sun'])\n",
    "s=pd.Series(data)\n",
    "print(s[:4])\n",
    "print(s[-4:])\n"
   ]
  },
  {
   "cell_type": "code",
   "execution_count": 128,
   "id": "42e0799b",
   "metadata": {},
   "outputs": [
    {
     "name": "stdout",
     "output_type": "stream",
     "text": [
      "103    Wed\n",
      "105    Fri\n",
      "107    Sun\n",
      "dtype: object\n"
     ]
    }
   ],
   "source": [
    "#39\n",
    "\n",
    "data=np.array(['Mon','Tue','Wed','Thu','Fri','Sat','Sun'])\n",
    "s=pd.Series(data, index=[101,102,103,104,105,\n",
    "106,107])\n",
    "print(s[[103,105,107]])"
   ]
  },
  {
   "cell_type": "code",
   "execution_count": 129,
   "id": "7b78126e",
   "metadata": {},
   "outputs": [
    {
     "name": "stdout",
     "output_type": "stream",
     "text": [
      "b    11.0\n",
      "c    12.0\n",
      "d     NaN\n",
      "a    10.0\n",
      "dtype: float64\n"
     ]
    }
   ],
   "source": [
    "#40\n",
    "\n",
    "D={'a':10,'b':11,'c':12}\n",
    "S=pd.Series(D,index=['b','c','d','a'])\n",
    "print(S)"
   ]
  },
  {
   "cell_type": "code",
   "execution_count": null,
   "id": "24d0d89c",
   "metadata": {},
   "outputs": [],
   "source": []
  }
 ],
 "metadata": {
  "kernelspec": {
   "display_name": ".venv",
   "language": "python",
   "name": "python3"
  },
  "language_info": {
   "codemirror_mode": {
    "name": "ipython",
    "version": 3
   },
   "file_extension": ".py",
   "mimetype": "text/x-python",
   "name": "python",
   "nbconvert_exporter": "python",
   "pygments_lexer": "ipython3",
   "version": "3.13.2"
  }
 },
 "nbformat": 4,
 "nbformat_minor": 5
}
