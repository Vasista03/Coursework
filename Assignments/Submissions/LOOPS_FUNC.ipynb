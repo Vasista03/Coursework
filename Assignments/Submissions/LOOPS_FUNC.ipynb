{
 "cells": [
  {
   "cell_type": "code",
   "execution_count": 32,
   "id": "6135c29f",
   "metadata": {},
   "outputs": [
    {
     "name": "stdout",
     "output_type": "stream",
     "text": [
      "total sales are  1035\n",
      "average sales are  147.85714285714286\n",
      "weekday sales are  [120, 135, 150, 160, 145]\n",
      "weekday sales are  [170, 155]\n"
     ]
    }
   ],
   "source": [
    "#1\n",
    "\n",
    "#Write a program to compute the total and average sales\n",
    "\n",
    "from calendar import week\n",
    "\n",
    "\n",
    "rec_sales =  [120, 135, 150, 160,145, 170, 155]\n",
    "total_sales = sum(rec_sales)\n",
    "print(\"total sales are \",total_sales)\n",
    "avg_sales = total_sales / len(rec_sales)\n",
    "print(\"average sales are \",avg_sales)\n",
    "\n",
    "#Use list slicing to print sales for weekdays (first 5) and weekend (last 2).\n",
    "\n",
    "print(\"weekday sales are \",rec_sales[:5])\n",
    "\n",
    "print(\"weekday sales are \",rec_sales[5:])"
   ]
  },
  {
   "cell_type": "code",
   "execution_count": 33,
   "id": "32802879",
   "metadata": {},
   "outputs": [
    {
     "name": "stdout",
     "output_type": "stream",
     "text": [
      "Even numbers are:  [2, 4]\n"
     ]
    }
   ],
   "source": [
    "#2Write a Python program that accepts a list of numbers from the user and prints a new list containing only the even numbers using a list comprehension.\n",
    "\n",
    "in_list=input(\"Enter numbers separated by spaces: \").split()\n",
    "new_list=[int(x) \n",
    "          for x in in_list\n",
    "            if int(x)%2==0]\n",
    "print(\"Even numbers are: \",new_list)"
   ]
  },
  {
   "cell_type": "code",
   "execution_count": 34,
   "id": "8b7d6e85",
   "metadata": {},
   "outputs": [
    {
     "name": "stdout",
     "output_type": "stream",
     "text": [
      "Alice\n",
      "Clara\n",
      "David\n",
      "None\n",
      "{'Alice': 'Pass', 'Bob': 'Fail', 'Clara': 'Pass', 'David': 'Pass'}\n"
     ]
    }
   ],
   "source": [
    "#3 Given a dictionary of students and their marks:\n",
    "\n",
    "# Print all student names who scored more than 75.\n",
    "\n",
    "marks = {\"Alice\": 82, \"Bob\": 67, \"Clara\": 91, \"David\": 76}\n",
    "def print_names_above_75(marks):\n",
    "    for name in marks:\n",
    "        if marks[name]>75:\n",
    "            print(name)\n",
    "        \n",
    "print(print_names_above_75(marks))\n",
    "\n",
    "#Create a new dictionary with student names as keys and\n",
    "#\"Pass\"/\"Fail\" as values.\n",
    "\n",
    "new_dict = {name: \n",
    "            (\"Pass\" if marks[name]>=75 else \"Fail\") \n",
    "                for name in marks}\n",
    "print(new_dict)\n"
   ]
  },
  {
   "cell_type": "code",
   "execution_count": 35,
   "id": "855abcab",
   "metadata": {},
   "outputs": [
    {
     "name": "stdout",
     "output_type": "stream",
     "text": [
      "{'p': 2, 'y': 1, 't': 1, 'h': 1, 'o': 2, 'n': 2, ' ': 1, 'r': 2, 'g': 2, 'a': 1, 'm': 2, 'i': 1}\n",
      "defaultdict(<class 'int'>, {'p': 2, 'y': 1, 't': 1, 'h': 1, 'o': 2, 'n': 2, ' ': 1, 'r': 2, 'g': 2, 'a': 1, 'm': 2, 'i': 1})\n"
     ]
    }
   ],
   "source": [
    "#4 Create a program that counts how many times each character occurs in the string \"python programming\". Use both:\n",
    "\n",
    "#a regular dictionary with get()\n",
    "\n",
    "input_str = \"python programming\"\n",
    "char_count = {}\n",
    "for char in input_str:\n",
    "    char_count[char] = char_count.get(char,0)+1\n",
    "print(char_count)\n",
    "\n",
    "#a defaultdict(int)\n",
    "\n",
    "from collections import defaultdict\n",
    "char_count_dd = defaultdict(int)\n",
    "for char in input_str:\n",
    "    char_count_dd[char] += 1\n",
    "print(char_count_dd)"
   ]
  },
  {
   "cell_type": "code",
   "execution_count": 36,
   "id": "72365258",
   "metadata": {},
   "outputs": [
    {
     "name": "stdout",
     "output_type": "stream",
     "text": [
      "10 20 30 40 50\n",
      "50 20 30 40 10\n"
     ]
    }
   ],
   "source": [
    "#5 write a python program that takes a tuple of numbers (10,20,30,40,50) and:\n",
    "\n",
    "#unpacks into variables a,b,c,d,e\n",
    "\n",
    "num = (10,20,30,40,50)\n",
    "a,b,c,d,e = num\n",
    "print(a,b,c,d,e)\n",
    "e,b,c,d,a=num\n",
    "print(a,b,c,d,e)"
   ]
  },
  {
   "cell_type": "code",
   "execution_count": 37,
   "id": "b6de8fc1",
   "metadata": {},
   "outputs": [
    {
     "name": "stdout",
     "output_type": "stream",
     "text": [
      "Students who play both games:  {'Mike', 'Sara'}\n",
      "Students who play only one game:  {'John', 'Emma', 'Tom', 'Bob'}\n"
     ]
    }
   ],
   "source": [
    "#6 Two sets represents who play Crickrt and Football:\n",
    "\n",
    "cricket={\"John\",\"Mike\",\"Sara\",\"Bob\"}\n",
    "football={\"Mike\",\"Tom\",\"Sara\",\"Emma\"}\n",
    "\n",
    "#find students who play both games.\n",
    "both_games = cricket & football\n",
    "print(\"Students who play both games: \",both_games)  \n",
    "\n",
    "#find students who play only one game.\n",
    "any_games = cricket | football\n",
    "only_one_game = any_games - both_games\n",
    "print(\"Students who play only one game: \",only_one_game)"
   ]
  },
  {
   "cell_type": "code",
   "execution_count": 38,
   "id": "79d23e9a",
   "metadata": {},
   "outputs": [
    {
     "name": "stdout",
     "output_type": "stream",
     "text": [
      "1\n",
      "2\n"
     ]
    }
   ],
   "source": [
    "#7\n",
    "\n",
    "#Write a function factorial(n) that uses a loop to calculate factorial.\n",
    "\n",
    "def factorial(n):\n",
    "    result = 1\n",
    "    for i in range(1,n+1):\n",
    "        result *= i\n",
    "    return result\n",
    "n=int(input(\"Enter a number: \"))\n",
    "print(factorial(n))\n",
    "\n",
    "\n",
    "#Then write another version using recursion. Compare the results.\n",
    "\n",
    "def factorial_recur(numb):\n",
    "    if numb == 0 or numb == 1:\n",
    "        return 1\n",
    "    else:\n",
    "        return numb * factorial_recur(numb - 1)\n",
    "numb=int(input(\"Enter a number: \"))\n",
    "print(factorial_recur(numb))"
   ]
  },
  {
   "cell_type": "code",
   "execution_count": 39,
   "id": "f8a11479",
   "metadata": {},
   "outputs": [
    {
     "name": "stdout",
     "output_type": "stream",
     "text": [
      "Positional arguments (list): ['John', 'Mike', 'Sara', 'Bob']\n",
      "Keyword arguments (dict): {'John': 20, 'Mike': 21, 'Sara': 19, 'Bob': 25}\n"
     ]
    }
   ],
   "source": [
    "#8 Write a function student_info(*args, **kwargs) that:\n",
    "\n",
    "#print all positional arguments as a list\n",
    "\n",
    "def student_age(*args, **kwargs):\n",
    "        print(\"Positional arguments (list):\", list(args))\n",
    "        print(\"Keyword arguments (dict):\", kwargs)\n",
    "\n",
    "cricket={\"John\":20,\"Mike\":21,\"Sara\":19,\"Bob\":25}\n",
    "\n",
    "student_age(*cricket.keys(), **cricket)"
   ]
  },
  {
   "cell_type": "code",
   "execution_count": 45,
   "id": "189fef70",
   "metadata": {},
   "outputs": [
    {
     "name": "stdout",
     "output_type": "stream",
     "text": [
      "1\n",
      "2\n",
      "3\n",
      "4\n",
      "5\n"
     ]
    }
   ],
   "source": [
    "\n",
    "#9 Write a closure function make_counter() that returns a function\n",
    "# increment() which increases a count by 1 every time it is called.\n",
    "# Demonstrate it by calling 5 times.\n",
    "\n",
    "\n",
    "def make_counter():\n",
    "    count = 0\n",
    "    def increment():\n",
    "        nonlocal count   \n",
    "        count += 1\n",
    "        return count\n",
    "    return increment\n",
    "\n",
    "counter=make_counter()\n",
    "\n",
    "for _ in range(5):\n",
    "    print(counter())\n"
   ]
  },
  {
   "cell_type": "code",
   "execution_count": 41,
   "id": "fd58f0fd",
   "metadata": {},
   "outputs": [
    {
     "name": "stdout",
     "output_type": "stream",
     "text": [
      "Visits: 1\n",
      "Visits: 2\n",
      "Visits: 3\n",
      "Visits: 4\n",
      "Visits: 5\n"
     ]
    }
   ],
   "source": [
    "#10 Use the global keyword to maintain a variable visits that counts\n",
    "#how many times a function track_visits() has been called. Show its behaviour\n",
    "\n",
    "visits = 0\n",
    "\n",
    "def track_visits():\n",
    "    global visits\n",
    "    visits += 1\n",
    "    print(\"Visits:\", visits)\n",
    "\n",
    "# call 5 times in a loop\n",
    "for _ in range(5):\n",
    "    track_visits()"
   ]
  },
  {
   "cell_type": "code",
   "execution_count": 42,
   "id": "7bc547a4",
   "metadata": {},
   "outputs": [
    {
     "name": "stdout",
     "output_type": "stream",
     "text": [
      "30.428000000000004\n"
     ]
    }
   ],
   "source": [
    "#11 Define a function with type hints:\n",
    "#def average(nums: list[float]) -> float:\n",
    "#It should return the average of the list values. Test it with both integers and floats.\n",
    "\n",
    "def average(nums: list[float]) -> float:\n",
    "    return sum(nums) / len(nums)\n",
    "\n",
    "print(average([10.00, 20.67, 30.98, 40, 50.49]))  # Test with integers"
   ]
  },
  {
   "cell_type": "code",
   "execution_count": 43,
   "id": "2aaced16",
   "metadata": {},
   "outputs": [
    {
     "name": "stdout",
     "output_type": "stream",
     "text": [
      "List of squares from 1 to 10: [1, 4, 9, 16, 25, 36, 49, 64, 81, 100]\n",
      "Dictionary of numbers to their cubes: {1: 1, 2: 8, 3: 27, 4: 64, 5: 125, 6: 216, 7: 343, 8: 512, 9: 729, 10: 1000}\n",
      "Set of remainders : {0, 1, 2, 3, 4}\n"
     ]
    }
   ],
   "source": [
    "#12 Write a Python program that:\n",
    "\n",
    "#Creates a list of squares from 1–10 using a list comprehension.\n",
    "squares = [x**2 for x in range(1, 11)]\n",
    "print(\"List of squares from 1 to 10:\", squares)\n",
    "\n",
    "#Creates a dictionary mapping numbers 1–10 to their cubes using a\n",
    "#dictionary comprehension.\n",
    "cubes = {x: x**3 for x in range(1, 11)}\n",
    "print(\"Dictionary of numbers to their cubes:\", cubes)\n",
    "\n",
    "#Creates a set of all remainders when numbers 1–20 are divided by 5\n",
    "#using a set comprehension.\n",
    "remainders = {x % 5 for x in range(1, 21)}\n",
    "print(\"Set of remainders :\",remainders)"
   ]
  },
  {
   "cell_type": "code",
   "execution_count": 44,
   "id": "729ad744",
   "metadata": {},
   "outputs": [
    {
     "name": "stdout",
     "output_type": "stream",
     "text": [
      "deleting: a\n"
     ]
    },
    {
     "ename": "RuntimeError",
     "evalue": "dictionary changed size during iteration",
     "output_type": "error",
     "traceback": [
      "\u001b[31m---------------------------------------------------------------------------\u001b[39m",
      "\u001b[31mRuntimeError\u001b[39m                              Traceback (most recent call last)",
      "\u001b[36mCell\u001b[39m\u001b[36m \u001b[39m\u001b[32mIn[44]\u001b[39m\u001b[32m, line 8\u001b[39m\n\u001b[32m      5\u001b[39m d={\u001b[33m\"\u001b[39m\u001b[33ma\u001b[39m\u001b[33m\"\u001b[39m:\u001b[32m1\u001b[39m,\u001b[33m\"\u001b[39m\u001b[33mb\u001b[39m\u001b[33m\"\u001b[39m:\u001b[32m2\u001b[39m,\u001b[33m\"\u001b[39m\u001b[33mc\u001b[39m\u001b[33m\"\u001b[39m:\u001b[32m3\u001b[39m}\n\u001b[32m      7\u001b[39m \u001b[38;5;66;03m# attempt to delete while iterating\u001b[39;00m\n\u001b[32m----> \u001b[39m\u001b[32m8\u001b[39m \u001b[38;5;28;43;01mfor\u001b[39;49;00m\u001b[43m \u001b[49m\u001b[43mkey\u001b[49m\u001b[43m \u001b[49m\u001b[38;5;129;43;01min\u001b[39;49;00m\u001b[43m \u001b[49m\u001b[43md\u001b[49m\u001b[43m:\u001b[49m\n\u001b[32m      9\u001b[39m \u001b[43m    \u001b[49m\u001b[38;5;28;43mprint\u001b[39;49m\u001b[43m(\u001b[49m\u001b[33;43m\"\u001b[39;49m\u001b[33;43mdeleting:\u001b[39;49m\u001b[33;43m\"\u001b[39;49m\u001b[43m,\u001b[49m\u001b[43m \u001b[49m\u001b[43mkey\u001b[49m\u001b[43m)\u001b[49m\n\u001b[32m     10\u001b[39m \u001b[43m    \u001b[49m\u001b[38;5;28;43;01mdel\u001b[39;49;00m\u001b[43m \u001b[49m\u001b[43md\u001b[49m\u001b[43m[\u001b[49m\u001b[43mkey\u001b[49m\u001b[43m]\u001b[49m\n",
      "\u001b[31mRuntimeError\u001b[39m: dictionary changed size during iteration"
     ]
    }
   ],
   "source": [
    "#13 Try deleting keys while iterating. Catch the error and then show the correct way using list(d.keys()).\n",
    "\n",
    "#error way\n",
    "\n",
    "d={\"a\":1,\"b\":2,\"c\":3}\n",
    "\n",
    "# attempt to delete while iterating\n",
    "for key in d:\n",
    "    print(\"deleting:\", key)\n",
    "    del d[key]\n"
   ]
  },
  {
   "cell_type": "code",
   "execution_count": null,
   "id": "de1c1cdc",
   "metadata": {},
   "outputs": [
    {
     "name": "stdout",
     "output_type": "stream",
     "text": [
      "Deleting: a\n",
      "Deleting: b\n",
      "Deleting: c\n",
      "Final dictionary: {}\n"
     ]
    }
   ],
   "source": [
    "#13 Correct way\n",
    "\n",
    "d = {\"a\": 1, \"b\": 2, \"c\": 3}  # reset dictionary\n",
    "for key in list(d.keys()):\n",
    "    print(\"Deleting:\", key)\n",
    "    del d[key]\n",
    "\n",
    "print(\"Final dictionary:\", d)"
   ]
  },
  {
   "cell_type": "code",
   "execution_count": null,
   "id": "9dc1553c",
   "metadata": {},
   "outputs": [
    {
     "name": "stdout",
     "output_type": "stream",
     "text": [
      "Flattened list: [1, 2, 3, 4, 5, 6]\n"
     ]
    }
   ],
   "source": [
    "#14 Write a Python program to flatten this nested list using a nested loop comprehension:\n",
    "\n",
    "matrix = [[1, 2], [3, 4, 5], [6]]\n",
    "matrix_flat = [num \n",
    "               for row in matrix\n",
    "                 for num in row]\n",
    "print(\"Flattened list:\", matrix_flat)"
   ]
  },
  {
   "cell_type": "code",
   "execution_count": null,
   "id": "ad04225b",
   "metadata": {},
   "outputs": [
    {
     "name": "stdout",
     "output_type": "stream",
     "text": [
      "Most frequent word: i Frequency: 2\n"
     ]
    }
   ],
   "source": [
    "#15 Create a program to find the most frequent word in a sentence\n",
    "#entered by the user. Print the word and its frequency.\n",
    "\n",
    "sentence = input(\"Enter a sentence:\")\n",
    "\n",
    "words = sentence.split()\n",
    "most_word = max(words, key=words.count)\n",
    "frequency = words.count(most_word)\n",
    "\n",
    "print(\"Most frequent word:\", most_word,\"Frequency:\", frequency)\n"
   ]
  }
 ],
 "metadata": {
  "kernelspec": {
   "display_name": ".venv",
   "language": "python",
   "name": "python3"
  },
  "language_info": {
   "codemirror_mode": {
    "name": "ipython",
    "version": 3
   },
   "file_extension": ".py",
   "mimetype": "text/x-python",
   "name": "python",
   "nbconvert_exporter": "python",
   "pygments_lexer": "ipython3",
   "version": "3.13.2"
  }
 },
 "nbformat": 4,
 "nbformat_minor": 5
}
