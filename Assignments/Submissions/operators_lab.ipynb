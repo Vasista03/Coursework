{
 "cells": [
  {
   "cell_type": "code",
   "execution_count": 30,
   "id": "ea03a877",
   "metadata": {},
   "outputs": [
    {
     "name": "stdout",
     "output_type": "stream",
     "text": [
      "3.13.2 (tags/v3.13.2:4f8bb39, Feb  4 2025, 15:23:48) [MSC v.1942 64 bit (AMD64)]\n"
     ]
    }
   ],
   "source": [
    "#A1. Create a new Jupyter Notebook called operators_lab.ipynb.\n",
    "#expected output = Python version: 3.11.4\n",
    "print(sys.version)"
   ]
  },
  {
   "cell_type": "code",
   "execution_count": 31,
   "id": "16c07f8c",
   "metadata": {},
   "outputs": [
    {
     "name": "stdout",
     "output_type": "stream",
     "text": [
      "Python version: 3.13.2 (tags/v3.13.2:4f8bb39, Feb  4 2025, 15:23:48) [MSC v.1942 64 bit (AMD64)]\n",
      "\n",
      "Please wait a moment while I gather a list of all available modules...\n",
      "\n",
      "IPython             _win32sysloader     locale              sys\n",
      "__future__          _win32verstamp_pywin32ctypes logging             sysconfig\n",
      "__hello__           _winapi             lzma                tabnanny\n",
      "__phello__          _winxptheme         mailbox             tarfile\n",
      "_abc                _wmi                marshal             tempfile\n",
      "_aix_support        _zoneinfo           math                test\n",
      "_android_support    abc                 matplotlib_inline   textwrap\n",
      "_apple_support      adodbapi            mimetypes           this\n",
      "_ast                afxres              mmap                threading\n",
      "_asyncio            antigravity         mmapfile            time\n",
      "_bisect             argparse            mmsystem            timeit\n",
      "_blake2             array               modulefinder        timer\n",
      "_bz2                ast                 msvcrt              tkinter\n",
      "_codecs             asttokens           multiprocessing     token\n",
      "_codecs_cn          asyncio             nest_asyncio        tokenize\n",
      "_codecs_hk          atexit              netbios             tomllib\n",
      "_codecs_iso2022     base64              netrc               tornado\n",
      "_codecs_jp          bdb                 nt                  trace\n",
      "_codecs_kr          binascii            ntpath              traceback\n",
      "_codecs_tw          bisect              ntsecuritycon       tracemalloc\n",
      "_collections        builtins            nturl2path          traitlets\n",
      "_collections_abc    bz2                 numbers             tty\n",
      "_colorize           cProfile            odbc                turtle\n",
      "_compat_pickle      calendar            opcode              turtledemo\n",
      "_compression        cmath               operator            types\n",
      "_contextvars        cmd                 optparse            typing\n",
      "_csv                code                os                  unicodedata\n",
      "_ctypes             codecs              packaging           unittest\n",
      "_ctypes_test        codeop              parso               urllib\n",
      "_datetime           collections         pathlib             uuid\n",
      "_decimal            colorama            pdb                 venv\n",
      "_elementtree        colorsys            perfmon             warnings\n",
      "_functools          comm                pickle              wave\n",
      "_hashlib            commctrl            pickletools         wcwidth\n",
      "_heapq              compileall          pip                 weakref\n",
      "_imp                concurrent          pkgutil             webbrowser\n",
      "_interpchannels     configparser        platform            win2kras\n",
      "_interpqueues       contextlib          platformdirs        win32api\n",
      "_interpreters       contextvars         plistlib            win32clipboard\n",
      "_io                 copy                poplib              win32com\n",
      "_ios_support        copyreg             posixpath           win32con\n",
      "_json               csv                 pprint              win32console\n",
      "_locale             ctypes              profile             win32cred\n",
      "_lsprof             curses              prompt_toolkit      win32crypt\n",
      "_lzma               dataclasses         pstats              win32cryptcon\n",
      "_markupbase         datetime            psutil              win32event\n",
      "_md5                dateutil            pty                 win32evtlog\n",
      "_multibytecodec     dbm                 pure_eval           win32evtlogutil\n",
      "_multiprocessing    dde                 py_compile          win32file\n",
      "_opcode             debugpy             pyclbr              win32gui\n",
      "_opcode_metadata    decimal             pydoc               win32gui_struct\n",
      "_operator           decorator           pydoc_data          win32help\n",
      "_osx_support        difflib             pyexpat             win32inet\n",
      "_overlapped         dis                 pygments            win32inetcon\n",
      "_pickle             doctest             pythoncom           win32job\n",
      "_py_abc             email               pywin               win32lz\n",
      "_pydatetime         encodings           pywin32_bootstrap   win32net\n",
      "_pydecimal          ensurepip           pywin32_testutil    win32netcon\n",
      "_pyio               enum                pywintypes          win32pdh\n",
      "_pylong             errno               queue               win32pdhquery\n",
      "_pyrepl             executing           quopri              win32pdhutil\n",
      "_queue              faulthandler        random              win32pipe\n",
      "_random             filecmp             rasutil             win32print\n",
      "_sha1               fileinput           re                  win32process\n",
      "_sha2               fnmatch             regcheck            win32profile\n",
      "_sha3               fractions           regutil             win32ras\n",
      "_signal             ftplib              reprlib             win32rcparser\n",
      "_sitebuiltins       functools           rlcompleter         win32security\n",
      "_socket             gc                  runpy               win32service\n",
      "_sqlite3            genericpath         sched               win32serviceutil\n",
      "_sre                getopt              secrets             win32timezone\n",
      "_ssl                getpass             select              win32trace\n",
      "_stat               gettext             selectors           win32traceutil\n",
      "_statistics         glob                servicemanager      win32transaction\n",
      "_string             graphlib            shelve              win32ts\n",
      "_strptime           gzip                shlex               win32ui\n",
      "_struct             hashlib             shutil              win32uiole\n",
      "_symtable           heapq               signal              win32verstamp\n",
      "_sysconfig          hmac                site                win32wnet\n",
      "_testbuffer         html                six                 winerror\n",
      "_testcapi           http                smtplib             winioctlcon\n",
      "_testclinic         idlelib             socket              winnt\n",
      "_testclinic_limited imaplib             socketserver        winperf\n",
      "_testconsole        importlib           sqlite3             winreg\n",
      "_testimportmultiple inspect             sre_compile         winsound\n",
      "_testinternalcapi   io                  sre_constants       winxpgui\n",
      "_testlimitedcapi    ipaddress           sre_parse           winxptheme\n",
      "_testmultiphase     ipykernel           ssl                 wsgiref\n",
      "_testsinglephase    ipykernel_launcher  sspi                xml\n",
      "_thread             ipython_pygments_lexers sspicon             xmlrpc\n",
      "_threading_local    isapi               stack_data          xxsubtype\n",
      "_tkinter            itertools           start_pythonwin     zipapp\n",
      "_tokenize           jedi                stat                zipfile\n",
      "_tracemalloc        json                statistics          zipimport\n",
      "_typing             jupyter             string              zlib\n",
      "_uuid               jupyter_client      stringprep          zmq\n",
      "_warnings           jupyter_core        struct              zoneinfo\n",
      "_weakref            keyword             subprocess          \n",
      "_weakrefset         linecache           symtable            \n",
      "\n",
      "Enter any module name to get more help.  Or, type \"modules spam\" to search\n",
      "for modules whose name or summary contain the string \"spam\".\n",
      "\n",
      "✅ You’re on a modern Python version!\n"
     ]
    }
   ],
   "source": [
    "#A2. Show the Python version with sys.versio\n",
    "import sys\n",
    "print(\"Python version:\", sys.version)\n",
    " \n",
    "# Check installed modules\n",
    "help(\"modules\")\n",
    " \n",
    "# Quick version compare\n",
    "if sys.version_info >= (3, 10):\n",
    "    print(\"✅ You’re on a modern Python version!\")\n",
    "else:\n",
    "    print(\"⚠️ Consider Upgrading Python.\")\n",
    "#expected output = You’re on a modern Python version!"
   ]
  },
  {
   "cell_type": "code",
   "execution_count": 32,
   "id": "7a8d3571",
   "metadata": {},
   "outputs": [
    {
     "name": "stdout",
     "output_type": "stream",
     "text": [
      "4\n",
      "-9.545454545454545\n",
      "4\n",
      "47\n",
      "1\n"
     ]
    }
   ],
   "source": [
    "#A3. In one cell, write 5 different arithmetic expressions mixing + - * / // % ** and parentheses.\n",
    "\n",
    "a=11\n",
    "b=4\n",
    "\n",
    "expr1 = a + b * b ** a // b % a - a \n",
    "expr2 = (b - a) * (a + b) / a\n",
    "expr3 = b ** a % (a + 1) + b // a\n",
    "expr4 = (a * b) - (b // a) + (a % b)\n",
    "expr5 = ((a + b) ** 2) // (a * b) - b\n",
    "\n",
    "print(expr1)\n",
    "#expected output = 4\n",
    "print(expr2)\n",
    "#expected output = -9.54\n",
    "print(expr3)\n",
    "#expected output = 4\n",
    "print(expr4)\n",
    "#expected output = 47\n",
    "print(expr5)\n",
    "#expected output = 1"
   ]
  },
  {
   "cell_type": "code",
   "execution_count": 33,
   "id": "3f56842e",
   "metadata": {},
   "outputs": [
    {
     "name": "stdout",
     "output_type": "stream",
     "text": [
      "Result is 4\n"
     ]
    }
   ],
   "source": [
    "#B1\n",
    "\n",
    "#result = a + b * b ** a // b % a - a\n",
    "#error here --> print(\"Result is\" result), no comma between string and variable\n",
    "a = 11\n",
    "b = 4\n",
    "result = a + b * b ** a // b % a - a\n",
    "#B3 first 4**11\n",
    "# then 4*4**11\n",
    "#then 4**12//4 \n",
    "# then 4**11 % 11\n",
    "# 11+4-11\n",
    "# = 4 final result  \n",
    "print(\"Result is\",result)\n",
    "#fixed"
   ]
  },
  {
   "cell_type": "markdown",
   "id": "aa13de2f",
   "metadata": {},
   "source": [
    "B4\n",
    "\n",
    " 11+4*(4^11)//4%11-11\n",
    "\n",
    "\n",
    " 11+(4*4^11)//4%11-11 -->  11+(4^12)//4%11-11\n",
    " \n",
    " \n",
    " 11+(4^12//4)%11-11 --> 11+(4^11)%11-11\n",
    " \n",
    " \n",
    " 11+(4^11)%11-11 --> 11+(4^11%11)-11\n",
    " \n",
    " \n",
    " 11+(4^11%11)-11 --> 11+4-11\n",
    " \n",
    " \n",
    " 15-11\n",
    " \n",
    " \n",
    " 4 = FINAL RESULT"
   ]
  },
  {
   "cell_type": "code",
   "execution_count": 34,
   "id": "1a8eb702",
   "metadata": {},
   "outputs": [
    {
     "name": "stdout",
     "output_type": "stream",
     "text": [
      "10\n",
      "512\n",
      "True\n",
      "True\n",
      "9\n",
      "22.0\n",
      "12\n",
      "0\n",
      "-6\n",
      "4\n",
      "9\n"
     ]
    }
   ],
   "source": [
    "#C1\n",
    "print(10 // 3 * 3 + 10 % 3)\n",
    "#expected output = 10\n",
    "print(2 ** 3 ** 2)\n",
    "#expected output = 512 (** is right associative)\n",
    "print(5 > 3 == 3)\n",
    "#expected output = True (5 > 3) and (3 == 3) -> True and True = True\n",
    "print((7 + 3) * 2 > 15 and not (4 % 2))\n",
    "#expected output = TRUE (7+3)*2=20 > 15 = True and not(0) = True and True = True\n",
    "print((True + True) * 5 - (False + True))\n",
    "#expected output = 9, TRUE =1,FALSE =0 (1+1)*5 - (0+1) = 2*5-1=10-1=9\n",
    "print(100 / 10 * 2 + 5 // 2)\n",
    "#expected output = 22 \n",
    "print(7 % 4 * 2 ** 2)\n",
    "#expected output = 12\n",
    "print((3 + 5) * (2 // 3))\n",
    "#expected output = 0\n",
    "print(10 - 2 ** 2 ** 2)\n",
    "#expected output = -6\n",
    "print((10 // 3) ** 2 % 5)\n",
    "#expected output = 4\n",
    "print((True + False) * 3 ** 2 - (True and False))\n",
    "#expected output = 9"
   ]
  },
  {
   "cell_type": "markdown",
   "id": "0132cf50",
   "metadata": {},
   "source": [
    "E\n",
    "\n",
    "**QUESTION**\n",
    "\n",
    "Your Task: In 200–300 words, explain to a “non-coder client” why operator\n",
    "precedence matters in financial forecasting (e.g., (revenue - cost) *\n",
    "tax_rate vs. revenue - cost * tax_rate).\n",
    "\n",
    "Reflection Question: Imagine you are working with a bank. They have an interest\n",
    "formula principal * (1 + rate/n) ** (n * t). Explain how operator precedence ensures\n",
    "the formula gives correct results. What could go wrong if parentheses were\n",
    "misplaced?\n",
    "\n",
    "**ANSWER**\n",
    "\n",
    "Operator precedence simply means the order in which calculations are performed, and in financial forecasting it is critical. A small mistake in order can completely change the outcome. It is like following a recipe: if the steps are taken out of sequence, the dish fails.\n",
    "\n",
    "Take the example of a baker calculating profit. Revenue is \\$100, costs are \\$40, and tax is 20%. The correct formula is (revenue – cost) \\* tax rate. If written without brackets, the computer may calculate the tax on costs first, then subtract from revenue, giving a result that looks sensible but is completely wrong. This shows how parentheses act like instructions, ensuring the right steps happen in the right order.\n",
    "\n",
    "The same principle applies to banks when calculating compound interest. The formula uses brackets to ensure that the interest rate is divided correctly, adjusted, and then applied over the right number of periods. If the brackets are misplaced, the computer performs the wrong steps, leading to an interest figure that makes no sense. That could cause the bank to undercharge or overcharge customers, risking huge financial losses and legal trouble.\n",
    "\n",
    "In short, operator precedence and parentheses are not minor details. They protect accuracy, prevent errors, and ensure financial health for businesses, banks, and individuals.\n"
   ]
  },
  {
   "cell_type": "markdown",
   "id": "d416d273",
   "metadata": {},
   "source": []
  }
 ],
 "metadata": {
  "kernelspec": {
   "display_name": ".venv",
   "language": "python",
   "name": "python3"
  },
  "language_info": {
   "codemirror_mode": {
    "name": "ipython",
    "version": 3
   },
   "file_extension": ".py",
   "mimetype": "text/x-python",
   "name": "python",
   "nbconvert_exporter": "python",
   "pygments_lexer": "ipython3",
   "version": "3.13.2"
  }
 },
 "nbformat": 4,
 "nbformat_minor": 5
}
