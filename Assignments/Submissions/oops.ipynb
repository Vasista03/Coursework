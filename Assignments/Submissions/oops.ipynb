{
 "cells": [
  {
   "cell_type": "markdown",
   "id": "6946e81a",
   "metadata": {},
   "source": [
    "# OOP & Exception Handling in Python Assignment"
   ]
  },
  {
   "cell_type": "markdown",
   "id": "c247a088",
   "metadata": {},
   "source": [
    "# Section A: Conceptual (5 Questions)"
   ]
  },
  {
   "cell_type": "markdown",
   "id": "36d62f82",
   "metadata": {},
   "source": [
    "**1. Explain with examples:**\n",
    "\n",
    "**○ How method overriding is different from method overloading (Python’s version using default arguments or *args).**\n",
    "\n",
    "Method Overriding\n",
    "\n",
    "Think of a parent and child relationship.\n",
    "\n",
    "Example: A generic Animal makes a “sound”, but a Dog overrides it by making a “bark”.\n",
    "\n",
    "The child (Dog) gives its own version of the parent’s method (sound).\n",
    "\n",
    "Method Overloading (Python style)\n",
    "\n",
    "Think of the same action but with different numbers of inputs.\n",
    "\n",
    "Example: A Calculator can “add” two numbers, or it can “add” three numbers.\n",
    "\n",
    "In Python, instead of creating separate methods, we handle this using optional/default arguments or *args.\n",
    "\n",
    "**○ Which one Python actually supports directly?**\n",
    "\n",
    "Overriding → Yes, directly supported.\n",
    "\n",
    "Overloading → No, not directly (only mimicked using defaults or *args)\n"
   ]
  },
  {
   "cell_type": "code",
   "execution_count": 32,
   "id": "2fd7bb90",
   "metadata": {},
   "outputs": [
    {
     "name": "stdout",
     "output_type": "stream",
     "text": [
      "Bark\n",
      "15\n",
      "35\n",
      "15\n",
      "35\n",
      "15\n"
     ]
    }
   ],
   "source": [
    "#Example (Overriding):\n",
    "\n",
    "class Animal:\n",
    "    def sound(self):\n",
    "        print(\"Some generic sound\")\n",
    "\n",
    "class Dog(Animal):\n",
    "    def sound(self):   # overriding parent method\n",
    "        print(\"Bark\")\n",
    "\n",
    "d = Dog()\n",
    "d.sound()   # Output: Bark\n",
    "\n",
    "\n",
    "#Example (Overloading via default args):\n",
    "\n",
    "class Calculator:\n",
    "    def add(self, a=0, b=0, c=0):\n",
    "        return a + b + c\n",
    "\n",
    "c = Calculator()\n",
    "print(c.add(5, 10))      # 15\n",
    "print(c.add(5, 10, 20))  # 35\n",
    "\n",
    "#Example (Overloading via *args):\n",
    "\n",
    "class Calculator:\n",
    "    def add(self, *args):\n",
    "        return sum(args)\n",
    "\n",
    "c = Calculator()\n",
    "print(c.add(5, 10))        # 15\n",
    "print(c.add(5, 10, 20))    # 35\n",
    "print(c.add(1,2,3,4,5))    # 15\n"
   ]
  },
  {
   "cell_type": "markdown",
   "id": "6a7ceac0",
   "metadata": {},
   "source": [
    "**Suppose you’re designing an E-commerce app. Describe how you would use:**\n",
    "\n",
    "○ Encapsulation\n",
    "\n",
    "Example: A Customer’s payment details shouldn’t be directly accessible; they’re private, accessed only via methods.\n",
    "\n",
    "○ Inheritance\n",
    "\n",
    "Example: Product is the parent; Electronics and Clothing inherit common attributes but add their own.\n",
    "\n",
    "○ Polymorphism\n",
    "\n",
    "Example: Shipping cost calculation differs by product type.\n",
    "\n",
    "○ Abstraction\n",
    "\n",
    "Example: Payment – customer doesn’t need to know internal API calls, just pay().\n",
    "\n",
    "**Give class examples for each.**\n"
   ]
  },
  {
   "cell_type": "code",
   "execution_count": 33,
   "id": "44e3fc62",
   "metadata": {},
   "outputs": [
    {
     "name": "stdout",
     "output_type": "stream",
     "text": [
      "Alice\n",
      "**** **** **** 5678\n",
      "Smartphone 600 2 years\n",
      "T-shirt 20 L\n",
      "Standard shipping: $5\n",
      "Express shipping: $15\n",
      "Paid 100 using Credit Card\n",
      "Paid 200 using PayPal\n"
     ]
    }
   ],
   "source": [
    "#Encapsulation Example:\n",
    "\n",
    "class Customer:\n",
    "    def __init__(self, name, card_number):\n",
    "        self.name = name\n",
    "        self.__card_number = card_number   # private\n",
    "\n",
    "    def get_masked_card(self):\n",
    "        return \"**** **** **** \" + self.__card_number[-4:]\n",
    "\n",
    "cust = Customer(\"Alice\", \"1234567812345678\")\n",
    "print(cust.name)                # Alice\n",
    "print(cust.get_masked_card())   # **** **** **** 5678\n",
    "\n",
    "#Inheritance Example:\n",
    "\n",
    "class Product:\n",
    "    def __init__(self, name, price):\n",
    "        self.name = name\n",
    "        self.price = price\n",
    "\n",
    "class Electronics(Product):\n",
    "    def __init__(self, name, price, warranty):\n",
    "        super().__init__(name, price)\n",
    "        self.warranty = warranty\n",
    "\n",
    "class Clothing(Product):\n",
    "    def __init__(self, name, price, size):\n",
    "        super().__init__(name, price)\n",
    "        self.size = size\n",
    "\n",
    "phone = Electronics(\"Smartphone\", 600, \"2 years\")\n",
    "shirt = Clothing(\"T-shirt\", 20, \"L\")\n",
    "\n",
    "print(phone.name, phone.price, phone.warranty)   # Smartphone 600 2 years\n",
    "print(shirt.name, shirt.price, shirt.size)       # T-shirt 20 L\n",
    "\n",
    "#Polymorphism Example:\n",
    "\n",
    "class Shipping:\n",
    "    def calculate(self):\n",
    "        pass\n",
    "\n",
    "class StandardShipping(Shipping):\n",
    "    def calculate(self):\n",
    "        return \"Standard shipping: $5\"\n",
    "\n",
    "class ExpressShipping(Shipping):\n",
    "    def calculate(self):\n",
    "        return \"Express shipping: $15\"\n",
    "\n",
    "ship1 = StandardShipping()\n",
    "ship2 = ExpressShipping()\n",
    "\n",
    "print(ship1.calculate())   # Standard shipping: $5\n",
    "print(ship2.calculate())   # Express shipping: $15\n",
    "\n",
    "#Abstraction Example:\n",
    "\n",
    "from abc import ABC, abstractmethod\n",
    "\n",
    "class Payment(ABC):\n",
    "    @abstractmethod\n",
    "    def pay(self, amount):\n",
    "        pass\n",
    "\n",
    "class CreditCardPayment(Payment):\n",
    "    def pay(self, amount):\n",
    "        return f\"Paid {amount} using Credit Card\"\n",
    "\n",
    "class PayPalPayment(Payment):\n",
    "    def pay(self, amount):\n",
    "        return f\"Paid {amount} using PayPal\"\n",
    "\n",
    "p1 = CreditCardPayment()\n",
    "p2 = PayPalPayment()\n",
    "\n",
    "print(p1.pay(100))   # Paid 100 using Credit Card\n",
    "print(p2.pay(200))   # Paid 200 using PayPal\n"
   ]
  },
  {
   "cell_type": "markdown",
   "id": "8861a42f",
   "metadata": {},
   "source": [
    "**What is duck typing in Python? Show with an example how polymorphism in Python supports duck typing.**\n",
    "\n",
    "The type or class of an object is less important than the methods or properties it has.\n",
    "\n",
    "The name comes from the phrase:\n",
    "\n",
    "“If it looks like a duck, swims like a duck, and quacks like a duck, then it’s probably a duck.”\n",
    "\n",
    "In Python, we don’t ask “Is this object of type X?”\n",
    "\n",
    "Instead, we ask “Can this object do X?”\n"
   ]
  },
  {
   "cell_type": "code",
   "execution_count": 34,
   "id": "06149368",
   "metadata": {},
   "outputs": [
    {
     "name": "stdout",
     "output_type": "stream",
     "text": [
      "Quack Quack\n",
      "Bark Bark\n"
     ]
    }
   ],
   "source": [
    "#Example of PolYmorphism\n",
    "\n",
    "class Duck:\n",
    "    def speak(self):\n",
    "        print(\"Quack Quack\")\n",
    "\n",
    "class Dog:\n",
    "    def speak(self):\n",
    "        print(\"Bark Bark\")\n",
    "\n",
    "def make_sound(animal):\n",
    "    # We don’t check type, we just call .speak()\n",
    "    animal.speak()\n",
    "\n",
    "duck = Duck()\n",
    "dog = Dog()\n",
    "\n",
    "make_sound(duck)   # Quack Quack\n",
    "make_sound(dog)    # Bark Bark\n"
   ]
  },
  {
   "cell_type": "markdown",
   "id": "a5e1d64c",
   "metadata": {},
   "source": [
    "\n",
    "**How do custom exceptions improve code readability and maintainability? Give**\n",
    "**one case where defining your own exception class is better than using built-in exceptions.**\n",
    "\n",
    "Clarity → Instead of raising a vague built-in exception like ValueError, you can raise a meaningful one like InvalidOrderError. This makes it immediately clear what went wrong.\n",
    "\n",
    "Separation of Concerns → You can distinguish between different error types specific to your application, instead of lumping them all under generic exceptions.\n",
    "\n",
    "Easier Debugging → A custom exception points directly to the domain-specific problem.\n",
    "\n",
    "Better Error Handling → You can catch and handle your own exceptions separately from Python’s built-in ones."
   ]
  },
  {
   "cell_type": "code",
   "execution_count": 35,
   "id": "3552e13e",
   "metadata": {},
   "outputs": [
    {
     "name": "stdout",
     "output_type": "stream",
     "text": [
      "Order failed: Laptop out of stock: Requested 5, Available 2\n"
     ]
    }
   ],
   "source": [
    "#Case Example: E-commerce Order Validation\n",
    "\n",
    "#Suppose you’re building an E-commerce checkout system.\n",
    "\n",
    "#If a customer tries to order more items than are in stock:\n",
    "\n",
    "#You could raise a built-in exception like ValueError, but it’s too generic.\n",
    "\n",
    "#Instead, defining a custom exception like OutOfStockError makes the problem explicit.\n",
    "\n",
    "class OutOfStockError(Exception):\n",
    "    def __init__(self, product, requested, available):\n",
    "        self.product = product\n",
    "        self.requested = requested\n",
    "        self.available = available\n",
    "        super().__init__(f\"{product} out of stock: Requested {requested}, Available {available}\")\n",
    "\n",
    "# Usage\n",
    "def place_order(product, requested, available):\n",
    "    if requested > available:\n",
    "        raise OutOfStockError(product, requested, available)\n",
    "    else:\n",
    "        print(\"Order placed successfully!\")\n",
    "\n",
    "try:\n",
    "    place_order(\"Laptop\", 5, 2)\n",
    "except OutOfStockError as e:\n",
    "    print(\"Order failed:\", e)\n"
   ]
  },
  {
   "cell_type": "markdown",
   "id": "f59a9f35",
   "metadata": {},
   "source": [
    "**Compare composition vs inheritance. Give one scenario where you would prefer composition over inheritance.**\n",
    "\n",
    "### **Comparison: Composition vs Inheritance**\n",
    "\n",
    "* **Inheritance**\n",
    "\n",
    "  * Relationship: *“is-a”*\n",
    "  * A child class derives properties and behaviour from a parent class.\n",
    "  * Promotes **code reuse**, but can lead to tight coupling.\n",
    "  * Example: A `Dog` **is an** `Animal`.\n",
    "\n",
    "* **Composition**\n",
    "\n",
    "  * Relationship: *“has-a”*\n",
    "  * A class contains objects of other classes and uses their functionality.\n",
    "  * Promotes **flexibility** and loose coupling.\n",
    "  * Example: A `Car` **has an** `Engine`.\n",
    "\n",
    "**When to Prefer Composition**\n",
    "\n",
    "You prefer composition when the relationship is **“has-a”** and not strictly **“is-a”**, especially if you want to reuse functionality without inheriting everything from a parent.\n",
    "\n",
    "**Example scenario:**\n",
    "In an **E-commerce app**, an `Order` class can **have a** `PaymentProcessor`. Here, `Order` is not a type of payment processor, so **composition** is more suitable than inheritance.\n"
   ]
  },
  {
   "cell_type": "markdown",
   "id": "d468b84c",
   "metadata": {},
   "source": [
    "# Section B: Coding (10 Questions)\n"
   ]
  },
  {
   "cell_type": "markdown",
   "id": "c31ad663",
   "metadata": {},
   "source": [
    "Create a class hierarchy for Employees:\n",
    "\n",
    "○ Base class Employee (name, salary).\n",
    "\n",
    "○ Subclass Manager (manages list of employees).\n",
    "\n",
    "○ Subclass Developer (programming_language).\n",
    "\n",
    "Demonstrate polymorphism by calling a work() method for different\n",
    "employees."
   ]
  },
  {
   "cell_type": "code",
   "execution_count": 36,
   "id": "203b3d5f",
   "metadata": {},
   "outputs": [
    {
     "name": "stdout",
     "output_type": "stream",
     "text": [
      "Alice is working.\n",
      "Bob is managing 1 employees.\n",
      "Charlie is coding in Python.\n"
     ]
    }
   ],
   "source": [
    "class Employee:\n",
    "    def __init__(self, name, salary):\n",
    "        self.name = name\n",
    "        self.salary = salary\n",
    "\n",
    "    def work(self):\n",
    "        return f\"{self.name} is working.\"\n",
    "\n",
    "class Manager(Employee):\n",
    "    def __init__(self, name, salary, employees=None):\n",
    "        super().__init__(name, salary)\n",
    "        self.employees = employees if employees else []\n",
    "\n",
    "    def work(self):\n",
    "        return f\"{self.name} is managing {len(self.employees)} employees.\"\n",
    "\n",
    "class Developer(Employee):\n",
    "    def __init__(self, name, salary, programming_language):\n",
    "        super().__init__(name, salary)\n",
    "        self.programming_language = programming_language\n",
    "\n",
    "    def work(self):\n",
    "        return f\"{self.name} is coding in {self.programming_language}.\"\n",
    "\n",
    "# Demonstrating polymorphism\n",
    "e1 = Employee(\"Alice\", 40000)\n",
    "m1 = Manager(\"Bob\", 60000, [e1])\n",
    "d1 = Developer(\"Charlie\", 50000, \"Python\")\n",
    "\n",
    "for emp in [e1, m1, d1]:\n",
    "    print(emp.work())\n"
   ]
  },
  {
   "cell_type": "markdown",
   "id": "5d1b1938",
   "metadata": {},
   "source": [
    "Implement multiple inheritance in Python with a Teacher and Researcher class. Derive a Professor class that inherits from both. \n",
    "\n",
    "Show how MRO\n",
    "\n",
    "(Method Resolution Order) works in Python."
   ]
  },
  {
   "cell_type": "markdown",
   "id": "7f4a2dd4",
   "metadata": {},
   "source": []
  },
  {
   "cell_type": "code",
   "execution_count": 37,
   "id": "5c8df174",
   "metadata": {},
   "outputs": [
    {
     "name": "stdout",
     "output_type": "stream",
     "text": [
      "Teaching students.\n",
      "Conducting research.\n",
      "Managing both teaching and research.\n",
      "[<class '__main__.Professor'>, <class '__main__.Teacher'>, <class '__main__.Researcher'>, <class 'object'>]\n"
     ]
    }
   ],
   "source": [
    "class Teacher:\n",
    "    def work(self):\n",
    "        return \"Teaching students.\"\n",
    "\n",
    "class Researcher:\n",
    "    def work(self):\n",
    "        return \"Conducting research.\"\n",
    "\n",
    "class Professor(Teacher, Researcher):\n",
    "    def work(self):\n",
    "        return \"Managing both teaching and research.\"\n",
    "\n",
    "# Using\n",
    "t = Teacher()\n",
    "r = Researcher()\n",
    "p = Professor()\n",
    "\n",
    "print(t.work())   # Teaching students.\n",
    "print(r.work())   # Conducting research.\n",
    "print(p.work())   # Managing both teaching and research.\n",
    "\n",
    "# Show Method Resolution Order (MRO)\n",
    "print(Professor.mro())\n"
   ]
  },
  {
   "cell_type": "markdown",
   "id": "b8a7ed62",
   "metadata": {},
   "source": [
    "**Design a Student Grading System using OOP:**\n",
    "\n",
    "○ Class Student with attributes name, roll, marks (dict).\n",
    "\n",
    "○ Methods: calculate_average(), get_grade().\n",
    "\n",
    "○ Use encapsulation to keep marks private."
   ]
  },
  {
   "cell_type": "code",
   "execution_count": 38,
   "id": "33956ceb",
   "metadata": {},
   "outputs": [
    {
     "name": "stdout",
     "output_type": "stream",
     "text": [
      "Alice (Roll 101): Grade = A, Avg = 91.66666666666667\n",
      "Bob (Roll 102): Grade = C, Avg = 61.666666666666664\n"
     ]
    }
   ],
   "source": [
    "class Student:\n",
    "    def __init__(self, name, roll, marks):\n",
    "        self.name = name\n",
    "        self.roll = roll\n",
    "        self.__marks = marks   # encapsulated (private)\n",
    "\n",
    "    def calculate_average(self):\n",
    "        return sum(self.__marks.values()) / len(self.__marks)\n",
    "\n",
    "    def get_grade(self):\n",
    "        avg = self.calculate_average()\n",
    "        if avg >= 90:\n",
    "            return \"A\"\n",
    "        elif avg >= 75:\n",
    "            return \"B\"\n",
    "        elif avg >= 50:\n",
    "            return \"C\"\n",
    "        else:\n",
    "            return \"F\"\n",
    "\n",
    "    # Getter for marks (controlled access)\n",
    "    def get_marks(self):\n",
    "        return self.__marks\n",
    "\n",
    "# Using\n",
    "s1 = Student(\"Alice\", 101, {\"Math\": 95, \"Science\": 88, \"English\": 92})\n",
    "s2 = Student(\"Bob\", 102, {\"Math\": 60, \"Science\": 55, \"English\": 70})\n",
    "\n",
    "print(f\"{s1.name} (Roll {s1.roll}): Grade = {s1.get_grade()}, Avg = {s1.calculate_average()}\")\n",
    "print(f\"{s2.name} (Roll {s2.roll}): Grade = {s2.get_grade()}, Avg = {s2.calculate_average()}\")\n"
   ]
  },
  {
   "cell_type": "markdown",
   "id": "c223d690",
   "metadata": {},
   "source": [
    "Create an abstract class Payment with abstract method pay(amount).\n",
    "\n",
    "Implement subclasses CreditCardPayment, UPIPayment, and WalletPayment. Simulate different payments."
   ]
  },
  {
   "cell_type": "code",
   "execution_count": 39,
   "id": "f76e8a4e",
   "metadata": {},
   "outputs": [
    {
     "name": "stdout",
     "output_type": "stream",
     "text": [
      "Processing payment of ₹1000 via Credit Card.\n",
      "Processing payment of ₹1000 via UPI.\n",
      "Processing payment of ₹1000 via Wallet.\n"
     ]
    }
   ],
   "source": [
    "from abc import ABC, abstractmethod\n",
    "\n",
    "# Abstract Class\n",
    "class Payment(ABC):\n",
    "    @abstractmethod\n",
    "    def pay(self, amount):\n",
    "        pass\n",
    "\n",
    "# Subclass 1: Credit Card\n",
    "class CreditCardPayment(Payment):\n",
    "    def pay(self, amount):\n",
    "        return f\"Processing payment of ₹{amount} via Credit Card.\"\n",
    "\n",
    "# Subclass 2: UPI\n",
    "class UPIPayment(Payment):\n",
    "    def pay(self, amount):\n",
    "        return f\"Processing payment of ₹{amount} via UPI.\"\n",
    "\n",
    "# Subclass 3: Wallet\n",
    "class WalletPayment(Payment):\n",
    "    def pay(self, amount):\n",
    "        return f\"Processing payment of ₹{amount} via Wallet.\"\n",
    "\n",
    "# Simulation\n",
    "def simulate_payments():\n",
    "    methods = [CreditCardPayment(), UPIPayment(), WalletPayment()]\n",
    "    for method in methods:\n",
    "        print(method.pay(1000))\n",
    "\n",
    "# Run simulation\n",
    "simulate_payments()\n"
   ]
  },
  {
   "cell_type": "markdown",
   "id": "73683133",
   "metadata": {},
   "source": [
    "Define a custom exception InsufficientFundsError. \n",
    "\n",
    "Modify your BankAccount class so that withdrawing more than balance raises this exception.\n",
    "\n",
    "Handle it gracefully.\n"
   ]
  },
  {
   "cell_type": "code",
   "execution_count": 40,
   "id": "e01a5868",
   "metadata": {},
   "outputs": [
    {
     "name": "stdout",
     "output_type": "stream",
     "text": [
      "Deposited ₹2000. New Balance = ₹7000\n",
      "Error: Withdrawal of ₹8000 failed. Available Balance = ₹7000\n"
     ]
    }
   ],
   "source": [
    "# Custom Exception\n",
    "class InsufficientFundsError(Exception):\n",
    "    def __init__(self, message=\"Insufficient funds in your account\"):\n",
    "        super().__init__(message)\n",
    "\n",
    "# BankAccount Class\n",
    "class BankAccount:\n",
    "    def __init__(self, owner, balance=0):\n",
    "        self.owner = owner\n",
    "        self.balance = balance\n",
    "\n",
    "    def deposit(self, amount):\n",
    "        self.balance += amount\n",
    "        print(f\"Deposited ₹{amount}. New Balance = ₹{self.balance}\")\n",
    "\n",
    "    def withdraw(self, amount):\n",
    "        if amount > self.balance:\n",
    "            raise InsufficientFundsError(\n",
    "                f\"Withdrawal of ₹{amount} failed. Available Balance = ₹{self.balance}\"\n",
    "            )\n",
    "        self.balance -= amount\n",
    "        print(f\"Withdrew ₹{amount}. New Balance = ₹{self.balance}\")\n",
    "\n",
    "# Graceful Handling\n",
    "try:\n",
    "    acc = BankAccount(\"Alice\", 5000)\n",
    "    acc.deposit(2000)\n",
    "    acc.withdraw(8000)  # More than balance\n",
    "except InsufficientFundsError as e:\n",
    "    print(\"Error:\", e)\n"
   ]
  },
  {
   "cell_type": "markdown",
   "id": "450c5fd0",
   "metadata": {},
   "source": [
    "Demonstrate try-except-else-finally:\n",
    "\n",
    "○ Take a number from the user.\n",
    "\n",
    "○ If the number is even, print “Even number.”\n",
    "\n",
    "○ Else, print “Odd number.”\n",
    "\n",
    "○ Use except for invalid input and finally to print “Program ended”"
   ]
  },
  {
   "cell_type": "code",
   "execution_count": 41,
   "id": "972911ae",
   "metadata": {},
   "outputs": [
    {
     "name": "stdout",
     "output_type": "stream",
     "text": [
      "Odd number.\n",
      "Program ended.\n"
     ]
    }
   ],
   "source": [
    "try:\n",
    "    num = int(input(\"Enter a number: \"))\n",
    "except ValueError:\n",
    "    print(\"Invalid input! Please enter an integer.\")\n",
    "else:\n",
    "    if num % 2 == 0:\n",
    "        print(\"Even number.\")\n",
    "    else:\n",
    "        print(\"Odd number.\")\n",
    "finally:\n",
    "    print(\"Program ended.\")\n"
   ]
  },
  {
   "cell_type": "markdown",
   "id": "060fdf72",
   "metadata": {},
   "source": [
    "Create a program that asks the user for an age.\n",
    "\n",
    "○ If input is non-numeric → handle with ValueError.\n",
    "\n",
    "○ If age < 0 → raise NegativeAgeError.\n",
    "\n",
    "○ If age > 150 → raise UnrealisticAgeError.\n",
    "\n",
    "○ Else print valid age.\n"
   ]
  },
  {
   "cell_type": "code",
   "execution_count": 42,
   "id": "d44704a1",
   "metadata": {},
   "outputs": [
    {
     "name": "stdout",
     "output_type": "stream",
     "text": [
      "Valid age entered: 22\n"
     ]
    }
   ],
   "source": [
    "# Custom Exceptions\n",
    "class NegativeAgeError(Exception):\n",
    "    def __init__(self, message=\"Age cannot be negative.\"):\n",
    "        super().__init__(message)\n",
    "\n",
    "class UnrealisticAgeError(Exception):\n",
    "    def __init__(self, message=\"Age seems unrealistic (>150).\"):\n",
    "        super().__init__(message)\n",
    "\n",
    "# Program\n",
    "try:\n",
    "    age = int(input(\"Enter your age: \"))\n",
    "\n",
    "    if age < 0:\n",
    "        raise NegativeAgeError()\n",
    "    elif age > 150:\n",
    "        raise UnrealisticAgeError()\n",
    "    else:\n",
    "        print(f\"Valid age entered: {age}\")\n",
    "\n",
    "except ValueError:\n",
    "    print(\"Invalid input! Please enter a numeric value.\")\n",
    "except NegativeAgeError as e:\n",
    "    print(\"Error:\", e)\n",
    "except UnrealisticAgeError as e:\n",
    "    print(\"Error:\", e)\n"
   ]
  },
  {
   "cell_type": "markdown",
   "id": "1d011f9a",
   "metadata": {},
   "source": [
    "Implement a library management system:\n",
    "\n",
    "● Class Book with attributes: title, author, copies.\n",
    "\n",
    "● Class Library that manages a collection of books with methods: add_book, borrow_book, return_book.\n",
    "\n",
    "● Use encapsulation to prevent direct modification of copies."
   ]
  },
  {
   "cell_type": "code",
   "execution_count": 47,
   "id": "387de4e8",
   "metadata": {},
   "outputs": [
    {
     "name": "stdout",
     "output_type": "stream",
     "text": [
      "\n",
      "Library Collection:\n",
      "Python 101 by John Doe — Copies: 3\n",
      "AI Basics by Jane Smith — Copies: 2\n",
      "You borrowed 'Python 101'.\n",
      "\n",
      "Library Collection:\n",
      "Python 101 by John Doe — Copies: 2\n",
      "AI Basics by Jane Smith — Copies: 2\n",
      "You returned 'Python 101'.\n",
      "\n",
      "Library Collection:\n",
      "Python 101 by John Doe — Copies: 3\n",
      "AI Basics by Jane Smith — Copies: 2\n"
     ]
    }
   ],
   "source": [
    "# Book class\n",
    "class Book:\n",
    "    def __init__(self, title, author, copies):\n",
    "        self.title = title\n",
    "        self.author = author\n",
    "        self.__copies = copies   # private attribute (encapsulation)\n",
    "\n",
    "    def get_copies(self):\n",
    "        return self.__copies\n",
    "\n",
    "    def borrow(self):\n",
    "        if self.__copies > 0:\n",
    "            self.__copies -= 1\n",
    "            return True\n",
    "        return False\n",
    "\n",
    "    def return_copy(self):\n",
    "        self.__copies += 1\n",
    "\n",
    "\n",
    "# Library class\n",
    "class Library:\n",
    "    def __init__(self):\n",
    "        self.books = {}\n",
    "\n",
    "    def add_book(self, book):\n",
    "        self.books[book.title] = book\n",
    "\n",
    "    def borrow_book(self, title):\n",
    "        if title in self.books and self.books[title].borrow():\n",
    "            print(f\"You borrowed '{title}'.\")\n",
    "        else:\n",
    "            print(f\"'{title}' is not available.\")\n",
    "\n",
    "    def return_book(self, title):\n",
    "        if title in self.books:\n",
    "            self.books[title].return_copy()\n",
    "            print(f\"You returned '{title}'.\")\n",
    "        else:\n",
    "            print(f\"'{title}' does not belong to this library.\")\n",
    "\n",
    "    def show_books(self):\n",
    "        print(\"\\nLibrary Collection:\")\n",
    "        for book in self.books.values():\n",
    "            print(f\"{book.title} by {book.author} — Copies: {book.get_copies()}\")\n",
    "\n",
    "\n",
    "# Simulation\n",
    "b1 = Book(\"Python 101\", \"John Doe\", 3)\n",
    "b2 = Book(\"AI Basics\", \"Jane Smith\", 2)\n",
    "\n",
    "lib = Library()\n",
    "lib.add_book(b1)\n",
    "lib.add_book(b2)\n",
    "\n",
    "lib.show_books()\n",
    "lib.borrow_book(\"Python 101\")\n",
    "\n",
    "lib.show_books()\n",
    "lib.return_book(\"Python 101\")\n",
    "\n",
    "lib.show_books()"
   ]
  },
  {
   "cell_type": "markdown",
   "id": "b2718ad7",
   "metadata": {},
   "source": [
    "# Write a program that uses polymorphism:\n",
    "\n",
    "Define a function process_payment(payment_method) which accepts any object with a pay() method.\n",
    "\n",
    "Pass in different classes (CreditCard, Cash, Bitcoin) without them sharing a common parent class.\n",
    "\n",
    "Demonstrate duck typing."
   ]
  },
  {
   "cell_type": "code",
   "execution_count": 44,
   "id": "2f06c36d",
   "metadata": {},
   "outputs": [
    {
     "name": "stdout",
     "output_type": "stream",
     "text": [
      "Paid ₹750 using Credit Card.\n",
      "Paid ₹750 in Cash.\n",
      "Paid ₹750 using Bitcoin.\n"
     ]
    }
   ],
   "source": [
    "# Different classes without common parent\n",
    "class CreditCard:\n",
    "    def pay(self, amount):\n",
    "        return f\"Paid ₹{amount} using Credit Card.\"\n",
    "\n",
    "class Cash:\n",
    "    def pay(self, amount):\n",
    "        return f\"Paid ₹{amount} in Cash.\"\n",
    "\n",
    "class Bitcoin:\n",
    "    def pay(self, amount):\n",
    "        return f\"Paid ₹{amount} using Bitcoin.\"\n",
    "\n",
    "# Polymorphic function using duck typing\n",
    "def process_payment(payment_method, amount):\n",
    "    print(payment_method.pay(amount))\n",
    "\n",
    "# Simulation\n",
    "payments = [CreditCard(), Cash(), Bitcoin()]\n",
    "\n",
    "for method in payments:\n",
    "    process_payment(method, 750)"
   ]
  },
  {
   "cell_type": "markdown",
   "id": "a4407d8c",
   "metadata": {},
   "source": [
    "Create a program that demonstrates nested exception handling:\n",
    "\n",
    "● Take two numbers as input.\n",
    "\n",
    "● Handle ValueError if input is invalid.\n",
    "\n",
    "● Handle ZeroDivisionError if divisor is zero.\n",
    "\n",
    "● Always print a cleanup message."
   ]
  },
  {
   "cell_type": "code",
   "execution_count": 45,
   "id": "893dc64a",
   "metadata": {},
   "outputs": [
    {
     "name": "stdout",
     "output_type": "stream",
     "text": [
      "Result: 2.0\n",
      "Cleanup: Program ended.\n"
     ]
    }
   ],
   "source": [
    "try:\n",
    "    # Outer try: input handling\n",
    "    try:\n",
    "        num1 = int(input(\"Enter numerator: \"))\n",
    "        num2 = int(input(\"Enter denominator: \"))\n",
    "    except ValueError:\n",
    "        print(\"Invalid input! Please enter numeric values.\")\n",
    "    else:\n",
    "        # Inner try: division handling\n",
    "        try:\n",
    "            result = num1 / num2\n",
    "        except ZeroDivisionError:\n",
    "            print(\"Error: Cannot divide by zero.\")\n",
    "        else:\n",
    "            print(\"Result:\", result)\n",
    "finally:\n",
    "    print(\"Cleanup: Program ended.\")\n"
   ]
  },
  {
   "cell_type": "markdown",
   "id": "e4480608",
   "metadata": {},
   "source": [
    "Build a Shape hierarchy where:\n",
    "\n",
    "● Shape is an abstract class with abstract methods area() and perimeter().\n",
    "\n",
    "● Implement Rectangle, Circle, and Triangle.\n",
    "\n",
    "● Raise a custom exception InvalidShapeError if negative dimensions are given."
   ]
  },
  {
   "cell_type": "code",
   "execution_count": 48,
   "id": "d8570309",
   "metadata": {},
   "outputs": [
    {
     "name": "stdout",
     "output_type": "stream",
     "text": [
      "Rectangle → Area: 15.00, Perimeter: 16.00\n",
      "Circle → Area: 50.27, Perimeter: 25.13\n",
      "Triangle → Area: 6.00, Perimeter: 12.00\n"
     ]
    }
   ],
   "source": [
    "from abc import ABC, abstractmethod\n",
    "import math\n",
    "\n",
    "# Custom Exception\n",
    "class InvalidShapeError(Exception):\n",
    "    def __init__(self, message=\"Invalid shape dimensions. Must be positive.\"):\n",
    "        super().__init__(message)\n",
    "\n",
    "# Abstract Base Class\n",
    "class Shape(ABC):\n",
    "    @abstractmethod\n",
    "    def area(self):\n",
    "        pass\n",
    "\n",
    "    @abstractmethod\n",
    "    def perimeter(self):\n",
    "        pass\n",
    "\n",
    "\n",
    "# Rectangle\n",
    "class Rectangle(Shape):\n",
    "    def __init__(self, length, width):\n",
    "        if length <= 0 or width <= 0:\n",
    "            raise InvalidShapeError(\"Rectangle sides must be positive.\")\n",
    "        self.length = length\n",
    "        self.width = width\n",
    "\n",
    "    def area(self):\n",
    "        return self.length * self.width\n",
    "\n",
    "    def perimeter(self):\n",
    "        return 2 * (self.length + self.width)\n",
    "\n",
    "\n",
    "# Circle\n",
    "class Circle(Shape):\n",
    "    def __init__(self, radius):\n",
    "        if radius <= 0:\n",
    "            raise InvalidShapeError(\"Radius must be positive.\")\n",
    "        self.radius = radius\n",
    "\n",
    "    def area(self):\n",
    "        return math.pi * self.radius ** 2\n",
    "\n",
    "    def perimeter(self):\n",
    "        return 2 * math.pi * self.radius\n",
    "\n",
    "\n",
    "# Triangle\n",
    "class Triangle(Shape):\n",
    "    def __init__(self, a, b, c):\n",
    "        if a <= 0 or b <= 0 or c <= 0:\n",
    "            raise InvalidShapeError(\"Triangle sides must be positive.\")\n",
    "        if a + b <= c or a + c <= b or b + c <= a:\n",
    "            raise InvalidShapeError(\"Triangle inequality violated.\")\n",
    "        self.a, self.b, self.c = a, b, c\n",
    "\n",
    "    def area(self):\n",
    "        s = (self.a + self.b + self.c) / 2\n",
    "        return math.sqrt(s * (s - self.a) * (s - self.b) * (s - self.c))\n",
    "\n",
    "    def perimeter(self):\n",
    "        return self.a + self.b + self.c\n",
    "\n",
    "\n",
    "# Simulation\n",
    "try:\n",
    "    shapes = [\n",
    "        Rectangle(5, 3),\n",
    "        Circle(4),\n",
    "        Triangle(3, 4, 5)\n",
    "    ]\n",
    "\n",
    "    for s in shapes:\n",
    "        print(f\"{s.__class__.__name__} → Area: {s.area():.2f}, Perimeter: {s.perimeter():.2f}\")\n",
    "\n",
    "except InvalidShapeError as e:\n",
    "    print(\"Error:\", e)\n"
   ]
  }
 ],
 "metadata": {
  "kernelspec": {
   "display_name": ".venv",
   "language": "python",
   "name": "python3"
  },
  "language_info": {
   "codemirror_mode": {
    "name": "ipython",
    "version": 3
   },
   "file_extension": ".py",
   "mimetype": "text/x-python",
   "name": "python",
   "nbconvert_exporter": "python",
   "pygments_lexer": "ipython3",
   "version": "3.13.2"
  }
 },
 "nbformat": 4,
 "nbformat_minor": 5
}
