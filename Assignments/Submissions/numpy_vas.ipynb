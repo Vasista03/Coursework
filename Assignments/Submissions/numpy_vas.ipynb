{
 "cells": [
  {
   "cell_type": "code",
   "execution_count": 80,
   "id": "c1d6fac3",
   "metadata": {},
   "outputs": [
    {
     "name": "stdout",
     "output_type": "stream",
     "text": [
      "[1 2 3]\n",
      "(3,)\n",
      "1 2 3\n",
      "[5 2 3]\n",
      "1\n"
     ]
    }
   ],
   "source": [
    "#1. Run the following\n",
    "\n",
    "import numpy as np\n",
    "a = np.array([1, 2, 3])\n",
    "print((a))\n",
    "print(a.shape)\n",
    "print(a[0], a[1], a[2])\n",
    "a[0] = 5\n",
    "print(a)\n",
    "rank=np.linalg.matrix_rank(a)\n",
    "print(rank)\n",
    "#shape= 1,3\n",
    "# a[0]=5,a[1]=2,a[2]=3\n",
    "#rank=1\n"
   ]
  },
  {
   "cell_type": "code",
   "execution_count": 81,
   "id": "03080313",
   "metadata": {},
   "outputs": [
    {
     "name": "stdout",
     "output_type": "stream",
     "text": [
      "[[1 2 3]\n",
      " [4 5 6]]\n",
      "(2, 3)\n",
      "1 2 4\n",
      "2\n"
     ]
    }
   ],
   "source": [
    "#2. Run the following:\n",
    "\n",
    "b = np.array([[1, 2, 3],\n",
    "               [4, 5, 6]])\n",
    "print(b)\n",
    "print(b.shape)# shape= 2,3\n",
    "print(b[0, 0], b[0, 1], b[1, 0])# b[0,0]=1,b[0,1]=2,b[1,0]=4\n",
    "rank=np.linalg.matrix_rank(b)# rank=2\n",
    "print(rank)\n"
   ]
  },
  {
   "cell_type": "code",
   "execution_count": 84,
   "id": "a49f2f40",
   "metadata": {},
   "outputs": [
    {
     "name": "stdout",
     "output_type": "stream",
     "text": [
      "[[0. 0.]\n",
      " [0. 0.]]\n",
      "[[1. 1.]]\n",
      "[[7 7]\n",
      " [7 7]]\n",
      "[[0.55303705 0.92341603]\n",
      " [0.04000271 0.01075682]]\n",
      "[[1. 0.]\n",
      " [0. 1.]]\n"
     ]
    }
   ],
   "source": [
    "a=np.zeros((2,2))\n",
    "print(a)\n",
    "b=np.ones((1,2))\n",
    "print(b)\n",
    "c=np.full((2,2), 7)\n",
    "print(c)\n",
    "d=np.random.random((2,2))\n",
    "print(d)\n",
    "e=np.eye(2)\n",
    "print(e)"
   ]
  },
  {
   "cell_type": "code",
   "execution_count": 87,
   "id": "d44ee13c",
   "metadata": {},
   "outputs": [
    {
     "name": "stdout",
     "output_type": "stream",
     "text": [
      "(3, 4)\n",
      "(2, 2)\n",
      "[[2 3]\n",
      " [6 7]]\n"
     ]
    }
   ],
   "source": [
    "#4. Run the following\n",
    "\n",
    "\n",
    "a=np.array([[1,2,3,4], [5,6,7,8], [9,10,11,12]])\n",
    "b=a[:2, 1:3]\n",
    "print(a.shape)# shape= 3,4\n",
    "print(b.shape)# shape= 2,2\n",
    "print(b)# [[2 3]\n",
    "         #[6 7]]"
   ]
  },
  {
   "cell_type": "code",
   "execution_count": 89,
   "id": "6b580fca",
   "metadata": {},
   "outputs": [
    {
     "name": "stdout",
     "output_type": "stream",
     "text": [
      "2\n",
      "77\n"
     ]
    }
   ],
   "source": [
    "#A slice of an array is a view into the same data. Follow the comments in the following snippet\n",
    "\n",
    "a=np.array([[1,2,3,4], [5,6,7,8], [9,10,11,12]])\n",
    "b=a[:2, 1:3]\n",
    "print(a[0, 1])\n",
    "b[0, 0] = 77\n",
    "print(a[0, 1])\n",
    "\n",
    "#last line print? 77 because b is a view of a, so changing b changes a."
   ]
  },
  {
   "cell_type": "code",
   "execution_count": null,
   "id": "0810024d",
   "metadata": {},
   "outputs": [
    {
     "name": "stdout",
     "output_type": "stream",
     "text": [
      "Row Values Of r1: [5 6 7 8] \n",
      " Row shape of r1: (4,)\n",
      "Row Values Of r2: [[5 6 7 8]] \n",
      " Row shape of r2: (1, 4)\n",
      "col Values Of r1: [ 2  6 10] \n",
      " Colshape of r1: (3,)\n",
      "Col Values Of r2: [[ 2]\n",
      " [ 6]\n",
      " [10]] \n",
      " Col shape of r2: (3, 1)\n"
     ]
    }
   ],
   "source": [
    "#6.\n",
    "\n",
    "a = np.array([[1,2,3,4], [5,6,7,8], [9,10,11,12]])\n",
    "a = np.array([[1,2,3,4], [5,6,7,8], [9,10,11,12]])\n",
    "row_r1 = a[1, :]\n",
    "row_r2 =a[1:2,:]\n",
    "print(\"Row Values Of r1:\",row_r1,\"\\n Row shape of r1:\",row_r1.shape)\n",
    "print(\"Row Values Of r2:\",row_r2,\"\\n Row shape of r2:\",row_r2.shape)\n",
    "col_r1=a[:,1]#Column values= [2,6,10]\n",
    "col_r2=a[:,1:2]#Column values= [[2],[6],[10]]\n",
    "print(\"col Values Of r1:\",col_r1,\"\\n Colshape of r1:\",col_r1.shape)# shape= (3,)\n",
    "print(\"Col Values Of r2:\",col_r2,\"\\n Col shape of r2:\",col_r2.shape)# shape= (3,1)"
   ]
  },
  {
   "cell_type": "code",
   "execution_count": 94,
   "id": "6e6edc65",
   "metadata": {},
   "outputs": [
    {
     "name": "stdout",
     "output_type": "stream",
     "text": [
      "[1 4 5]\n",
      "[1 4 5]\n"
     ]
    }
   ],
   "source": [
    "#7. Run the following\n",
    "\n",
    "a = np.array([[1,2], [3, 4], [5, 6]])\n",
    "print(a[[0, 1, 2], [0, 1, 0]])\n",
    "print(np.array([a[0, 0], a[1, 1], a[2, 0]]))\n",
    "\n",
    "#printed arrays are same"
   ]
  },
  {
   "cell_type": "code",
   "execution_count": 100,
   "id": "51e3534d",
   "metadata": {},
   "outputs": [
    {
     "name": "stdout",
     "output_type": "stream",
     "text": [
      "[2 2]\n",
      "[2 2]\n"
     ]
    }
   ],
   "source": [
    "#8..\n",
    "\n",
    "a = np.array([[1,2], [3, 4], [5, 6]])\n",
    "b=a[[0,0],[1,1]]\n",
    "print(b)\n",
    "c=np.array([a[0,1],a[0,1]])\n",
    "print(c)\n",
    "\n",
    "#duplicated\n",
    "\n"
   ]
  },
  {
   "cell_type": "code",
   "execution_count": 107,
   "id": "0b90a0c0",
   "metadata": {},
   "outputs": [
    {
     "name": "stdout",
     "output_type": "stream",
     "text": [
      "values of a [[ 1  2  3]\n",
      " [ 4  5  6]\n",
      " [ 7  8  9]\n",
      " [10 11 12]]\n",
      "values of b [0 2 0 1]\n",
      "selecting index : [ 1  6  7 11]\n",
      "final: [[11  2  3]\n",
      " [ 4  5 16]\n",
      " [17  8  9]\n",
      " [10 21 12]]\n"
     ]
    }
   ],
   "source": [
    "#9\n",
    "\n",
    "a = np.array([[1, 2, 3], [4, 5, 6], [7, 8, 9], [10, 11, 12]])\n",
    "print(\"values of a\",a)\n",
    "b = np.array([0, 2, 0, 1])\n",
    "print(\"values of b\",b)\n",
    "\n",
    "print(\"selecting index :\",a[np.arange(4), b])   # select one element from each row\n",
    "\n",
    "a[np.arange(4), b] += 10    # add 10 to those elements\n",
    "print(\"final:\",a)\n",
    "\n",
    "#we observe that values at positions (0,0),(1,2),(2,0),(3,1) are increased by 10"
   ]
  },
  {
   "cell_type": "code",
   "execution_count": null,
   "id": "74ded25e",
   "metadata": {},
   "outputs": [
    {
     "name": "stdout",
     "output_type": "stream",
     "text": [
      "first [[False False]\n",
      " [ True  True]\n",
      " [ True  True]]\n",
      "[3 4 5 6]\n",
      "[3 4 5 6]\n"
     ]
    }
   ],
   "source": [
    "#10.\n",
    "\n",
    "a = np.array([[1, 2], [3, 4], [5, 6]])\n",
    "bool_idx = (a > 2)\n",
    "print(\"first\",bool_idx)        # boolean mask\n",
    "print(a[bool_idx])     # values greater than 2\n",
    "print(a[a > 2])        # same as above\n",
    "\n",
    "#same values printed"
   ]
  },
  {
   "cell_type": "code",
   "execution_count": 110,
   "id": "77180748",
   "metadata": {},
   "outputs": [
    {
     "name": "stdout",
     "output_type": "stream",
     "text": [
      "int64\n",
      "float64\n",
      "int32\n"
     ]
    }
   ],
   "source": [
    "#11.\n",
    "\n",
    "x = np.array([1, 2])          # numpy chooses int\n",
    "print(x.dtype)\n",
    "\n",
    "y = np.array([1.0, 2.0])      # numpy chooses float\n",
    "print(y.dtype)\n",
    "\n",
    "z = np.array([1, 2], dtype=np.int32)   # force int32\n",
    "print(z.dtype)"
   ]
  },
  {
   "cell_type": "code",
   "execution_count": 112,
   "id": "3c55967d",
   "metadata": {},
   "outputs": [
    {
     "name": "stdout",
     "output_type": "stream",
     "text": [
      "[[ 6.  8.]\n",
      " [10. 12.]]\n",
      "[[ 6.  8.]\n",
      " [10. 12.]]\n",
      "[[-4. -4.]\n",
      " [-4. -4.]]\n",
      "[[-4. -4.]\n",
      " [-4. -4.]]\n",
      "[[ 5. 12.]\n",
      " [21. 32.]]\n",
      "[[ 5. 12.]\n",
      " [21. 32.]]\n",
      "[[0.2        0.33333333]\n",
      " [0.42857143 0.5       ]]\n",
      "[[0.2        0.33333333]\n",
      " [0.42857143 0.5       ]]\n",
      "[[1.         1.41421356]\n",
      " [1.73205081 2.        ]]\n"
     ]
    }
   ],
   "source": [
    "#12.\n",
    "\n",
    "import numpy as np\n",
    "\n",
    "x = np.array([[1, 2], [3, 4]], dtype=np.float64)\n",
    "y = np.array([[5, 6], [7, 8]], dtype=np.float64)\n",
    "\n",
    "# Elementwise sum\n",
    "print(x + y)\n",
    "print(np.add(x, y))\n",
    "#answer is [[ 6.  8.]\n",
    "#           [10. 12.]]\n",
    "\n",
    "# Elementwise difference\n",
    "print(x - y)\n",
    "print(np.subtract(x, y))\n",
    "#answer is [[-4. -4.]\n",
    "#           [-4. -4.]]\n",
    "\n",
    "# Elementwise product\n",
    "print(x * y)\n",
    "print(np.multiply(x, y))\n",
    "#answer is [[ 5. 12.]\n",
    "#           [21. 32.]]\n",
    "\n",
    "# Elementwise division\n",
    "print(x / y)\n",
    "print(np.divide(x, y))\n",
    "#answer is [[0.2        0.33333333]\n",
    "#           [0.42857143 0.5       ]]\n",
    "\n",
    "# Elementwise square root\n",
    "print(np.sqrt(x))\n",
    "#answer is [[1.         1.41421356]\n",
    "#           [1.73205081 2.        ]]"
   ]
  },
  {
   "cell_type": "code",
   "execution_count": 114,
   "id": "fc42ece5",
   "metadata": {},
   "outputs": [
    {
     "name": "stdout",
     "output_type": "stream",
     "text": [
      "219\n",
      "219\n"
     ]
    }
   ],
   "source": [
    "#13.\n",
    "\n",
    "v = np.array([9, 10])\n",
    "w = np.array([11, 12])\n",
    "\n",
    "print(v.dot(w))        # dot product\n",
    "print(np.dot(v, w))    # same\n",
    "#process is different"
   ]
  },
  {
   "cell_type": "code",
   "execution_count": 116,
   "id": "412ddf6c",
   "metadata": {},
   "outputs": [
    {
     "name": "stdout",
     "output_type": "stream",
     "text": [
      "[29 67]\n",
      "[29 67]\n"
     ]
    }
   ],
   "source": [
    "#14.\n",
    "\n",
    "x = np.array([[1, 2], [3, 4]])\n",
    "v = np.array([9, 10])\n",
    "\n",
    "print(x.dot(v))        # matrix × vector\n",
    "print(np.dot(x, v))    # same\n",
    "\n",
    "#process is different with and without np"
   ]
  },
  {
   "cell_type": "code",
   "execution_count": 122,
   "id": "793c6ce9",
   "metadata": {},
   "outputs": [
    {
     "name": "stdout",
     "output_type": "stream",
     "text": [
      "10\n",
      "[4 6]\n",
      "[3 7]\n"
     ]
    }
   ],
   "source": [
    "#15.\n",
    "\n",
    "x = np.array([[1, 2], [3, 4]])\n",
    "y = np.array([[5, 6, 7], [7, 8, 9]])\n",
    "\n",
    "print(np.sum(x))\n",
    "#answer is 10\n",
    "print(np.sum(x, axis=0))\n",
    "#answer is [4 6]\n",
    "print(np.sum(x, axis=1))\n",
    "#answer is [3 7]"
   ]
  },
  {
   "cell_type": "code",
   "execution_count": 120,
   "id": "a2a88b14",
   "metadata": {},
   "outputs": [
    {
     "name": "stdout",
     "output_type": "stream",
     "text": [
      "[[1 2 3]\n",
      " [3 4 5]]\n",
      "[[1 3]\n",
      " [2 4]\n",
      " [3 5]]\n"
     ]
    }
   ],
   "source": [
    "#16.\n",
    "\n",
    "x = np.array([[1,2,3], [3,4,5]])\n",
    "print(x)\n",
    "print(x.T)\n",
    "#rows become columns and vice versa in transpose\n"
   ]
  },
  {
   "cell_type": "code",
   "execution_count": 130,
   "id": "c260e5b2",
   "metadata": {},
   "outputs": [
    {
     "name": "stdout",
     "output_type": "stream",
     "text": [
      "shape: 4\n",
      "[[ 2.  2.  4.]\n",
      " [ 5.  5.  7.]\n",
      " [ 8.  8. 10.]\n",
      " [11. 11. 13.]]\n"
     ]
    }
   ],
   "source": [
    "#17.\n",
    "\n",
    "x=np.array([[1,2,3],[4,5,6], [7,8,9], [10, 11, 12]])\n",
    "v=np.array([1,0,1])\n",
    "y=np.zeros(x.shape)\n",
    "print(\"shape:\",x.shape[0])\n",
    "for i in range(x.shape[0]):\n",
    "    for j in range(x.shape[1]):\n",
    "        y[i,j]=x[i,j]+v[j]\n",
    "print(y)\n",
    "#in every iteration of i, all values of j are updated to add v[j] to x[i,j]"
   ]
  },
  {
   "cell_type": "code",
   "execution_count": 132,
   "id": "4010eb47",
   "metadata": {},
   "outputs": [
    {
     "name": "stdout",
     "output_type": "stream",
     "text": [
      "[[ 2  2  4]\n",
      " [ 5  5  7]\n",
      " [ 8  8 10]\n",
      " [11 11 13]]\n"
     ]
    }
   ],
   "source": [
    "#18.\n",
    "\n",
    "x = np.array([[1, 2, 3], [4, 5, 6], \n",
    "              [7, 8, 9], [10, 11, 12]])\n",
    "v = np.array([1, 0, 1])\n",
    "\n",
    "# Repeat v across all rows of x\n",
    "v_tiled = np.tile(v, (x.shape[0], 1))\n",
    "\n",
    "y = x + v_tiled\n",
    "print(y)"
   ]
  },
  {
   "cell_type": "code",
   "execution_count": 145,
   "id": "5847af1a",
   "metadata": {},
   "outputs": [
    {
     "name": "stdout",
     "output_type": "stream",
     "text": [
      "y is :  [[ 2  2  4]\n",
      " [ 5  5  7]\n",
      " [ 8  8 10]\n",
      " [11 11 13]]\n",
      "Outer product:\n",
      " [[ 4  5]\n",
      " [ 8 10]\n",
      " [12 15]]\n"
     ]
    }
   ],
   "source": [
    "#19.\n",
    "\n",
    "x = np.array([[1, 2, 3],\n",
    "              [4, 5, 6],\n",
    "              [7, 8, 9],\n",
    "              [10, 11, 12]])\n",
    "\n",
    "v = np.array([1, 0, 1])\n",
    "\n",
    "# Broadcasting automatically expands v across all rows of x\n",
    "y = x + v\n",
    "print(\"y is : \",y)\n",
    "\n",
    "w=np.array([4,5])\n",
    "v=np.array([1,2,3])\n",
    "\n",
    "outer_product = v[:, np.newaxis] * w\n",
    "print(\"Outer product:\\n\", outer_product)"
   ]
  },
  {
   "cell_type": "code",
   "execution_count": 148,
   "id": "cd2a6d28",
   "metadata": {},
   "outputs": [
    {
     "name": "stdout",
     "output_type": "stream",
     "text": [
      "x is: [[1 2 3]\n",
      " [4 5 6]]\n",
      "v is: [1 2 3]\n",
      "y is :  [[2 4 6]\n",
      " [5 7 9]]\n"
     ]
    }
   ],
   "source": [
    "#20\n",
    "\n",
    "x = np.array([[1,2,3], [4,5,6]])\n",
    "print(\"x is:\",x)\n",
    "v=np.array([1,2,3])\n",
    "print(\"v is:\",v)\n",
    "y = x + v  # Add v to each row of x using broadcasting\n",
    "print(\"y is : \",y)"
   ]
  },
  {
   "cell_type": "code",
   "execution_count": 151,
   "id": "cadc5ac7",
   "metadata": {},
   "outputs": [
    {
     "name": "stdout",
     "output_type": "stream",
     "text": [
      "y is : [[ 5  6  7]\n",
      " [ 9 10 11]]\n"
     ]
    }
   ],
   "source": [
    "#21.\n",
    "w=np.array([4,5]).reshape(2,1)\n",
    "y= x + w  # Add w to each row of x using broadcasting\n",
    "print(\"y is :\",y)"
   ]
  },
  {
   "cell_type": "code",
   "execution_count": 152,
   "id": "84c16b92",
   "metadata": {},
   "outputs": [
    {
     "name": "stdout",
     "output_type": "stream",
     "text": [
      "x is: [[ 2  4  6]\n",
      " [ 8 10 12]]\n"
     ]
    }
   ],
   "source": [
    "#22\n",
    "x = np.array([[1,2,3], [4,5,6]])\n",
    "x=x*2\n",
    "print(\"x is:\",x)"
   ]
  },
  {
   "cell_type": "code",
   "execution_count": null,
   "id": "e166c63b",
   "metadata": {},
   "outputs": [],
   "source": []
  }
 ],
 "metadata": {
  "kernelspec": {
   "display_name": ".venv",
   "language": "python",
   "name": "python3"
  },
  "language_info": {
   "codemirror_mode": {
    "name": "ipython",
    "version": 3
   },
   "file_extension": ".py",
   "mimetype": "text/x-python",
   "name": "python",
   "nbconvert_exporter": "python",
   "pygments_lexer": "ipython3",
   "version": "3.13.2"
  }
 },
 "nbformat": 4,
 "nbformat_minor": 5
}
