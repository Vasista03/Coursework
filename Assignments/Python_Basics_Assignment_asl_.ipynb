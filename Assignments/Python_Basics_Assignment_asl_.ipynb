{
 "cells": [
  {
   "cell_type": "code",
   "execution_count": 4,
   "id": "55fe5d89",
   "metadata": {},
   "outputs": [
    {
     "name": "stdout",
     "output_type": "stream",
     "text": [
      "with third variable\n",
      "a = 10\n",
      "b = 5\n",
      "without third variable and variable swapping in one line\n",
      "x = 20\n",
      "y = 15\n",
      "without third variable (normal method using arithmetic operations)\n",
      "p = 40\n",
      "q = 30\n"
     ]
    }
   ],
   "source": [
    "#Write a python program to swap the values in two variables with and without using a third variable.\n",
    "\n",
    "#with third variable\n",
    "a = 5\n",
    "b = 10\n",
    "c= a\n",
    "a = b\n",
    "b = c\n",
    "print(\"with third variable\")\n",
    "print(\"a =\", a)\n",
    "print(\"b =\", b)\n",
    "\n",
    "#without third variable and variable swapping in one line\n",
    "x = 15\n",
    "y = 20\n",
    "x, y = y, x\n",
    "print(\"without third variable and variable swapping in one line\") \n",
    "print(\"x =\", x)\n",
    "print(\"y =\", y)\n",
    "\n",
    "#without third variable (normal method using arithmetic operations)\n",
    "p=30\n",
    "q=40\n",
    "p=p+q\n",
    "q=p-q\n",
    "p=p-q\n",
    "print(\"without third variable (normal method using arithmetic operations)\")\n",
    "print(\"p =\", p)\n",
    "print(\"q =\", q)\n"
   ]
  },
  {
   "cell_type": "code",
   "execution_count": 9,
   "id": "21a7b1af",
   "metadata": {},
   "outputs": [
    {
     "data": {
      "text/plain": [
       "3.141592653589793"
      ]
     },
     "execution_count": 9,
     "metadata": {},
     "output_type": "execute_result"
    }
   ],
   "source": [
    "#Write a Python program that accepts a single numeric parameter representing anangle in radians to convert into degree.\n",
    "\n",
    "def to_radians(degree):\n",
    "    radians = degree * (3.141592653589793 / 180)\n",
    "    return radians\n",
    "to_radians(float(input(\"Enter angle in degree: \")))"
   ]
  },
  {
   "cell_type": "code",
   "execution_count": 10,
   "id": "5114109f",
   "metadata": {},
   "outputs": [
    {
     "data": {
      "text/plain": [
       "150.0"
      ]
     },
     "execution_count": 10,
     "metadata": {},
     "output_type": "execute_result"
    }
   ],
   "source": [
    "#Implement a Python program that calculates simple interest based on user input for the principal amount, rate of interest, and duration in years.\n",
    "\n",
    "def simple_interest(principal, rate, time):\n",
    "    interest = (principal * rate * time) / 100\n",
    "    return interest\n",
    "principal=float(input(\"Enter the principal amount: \"))\n",
    "rate=float(input(\"Enter the rate of interest: \"))   \n",
    "time=float(input(\"Enter the duration in years: \"))\n",
    "simple_interest(principal, rate, time)\n",
    "\n"
   ]
  },
  {
   "cell_type": "code",
   "execution_count": 8,
   "id": "d60c9f7f",
   "metadata": {},
   "outputs": [
    {
     "name": "stdout",
     "output_type": "stream",
     "text": [
      "J  is a consonant.\n"
     ]
    }
   ],
   "source": [
    "#Create a Python program that takes a single character input and determines whether it is a vowel or consonant.\n",
    "\n",
    "def check_vowel_consonant(char):\n",
    "    vowels = 'aeiouAEIOU'\n",
    "    if char in vowels:\n",
    "        return print(char,\" is a vowel.\")\n",
    "    elif ('a' <= char <= 'z') or ('A' <= char <= 'Z'):\n",
    "        return print(char,\" is a consonant.\")\n",
    "    else:\n",
    "        return \"Invalid input. Please enter a single alphabetic character.\"\n",
    "check_vowel_consonant(input(\"Enter a single character: \"))\n"
   ]
  },
  {
   "cell_type": "code",
   "execution_count": 7,
   "id": "8d3f861b",
   "metadata": {},
   "outputs": [
    {
     "name": "stdout",
     "output_type": "stream",
     "text": [
      "root 1 is : -0.1126785754779938    root 2 is : -7.987321424522006\n"
     ]
    }
   ],
   "source": [
    "#Write a Python programme to solve a quadratic equation. The inputs shall be taken from the user.\n",
    "\n",
    "def solve_quadratic(a, b, c):\n",
    "    d = b**2 - 4*a*c\n",
    "    if d >= 0:\n",
    "        root1 = (-b + d**0.5) / (2*a)\n",
    "        root2 = (-b - d**0.5) / (2*a)\n",
    "        return print(\"root 1 is :\",root1,\"   root 2 is :\", root2)\n",
    "    else:\n",
    "        return print(\"roots are imaginary\")\n",
    "a = float(input(\"Enter a: \"))\n",
    "b = float(input(\"Enter b: \"))\n",
    "c = float(input(\"Enter c: \"))\n",
    "solve_quadratic(a, b, c)"
   ]
  },
  {
   "cell_type": "code",
   "execution_count": null,
   "id": "ac124c90",
   "metadata": {},
   "outputs": [
    {
     "name": "stdout",
     "output_type": "stream",
     "text": [
      "Requirement already satisfied: pandas in d:\\coursework\\assignments\\.venv\\lib\\site-packages (2.3.2)\n",
      "Requirement already satisfied: numpy>=1.26.0 in d:\\coursework\\assignments\\.venv\\lib\\site-packages (from pandas) (2.3.2)\n",
      "Requirement already satisfied: python-dateutil>=2.8.2 in d:\\coursework\\assignments\\.venv\\lib\\site-packages (from pandas) (2.9.0.post0)\n",
      "Requirement already satisfied: pytz>=2020.1 in d:\\coursework\\assignments\\.venv\\lib\\site-packages (from pandas) (2025.2)\n",
      "Requirement already satisfied: tzdata>=2022.7 in d:\\coursework\\assignments\\.venv\\lib\\site-packages (from pandas) (2025.2)\n",
      "Requirement already satisfied: six>=1.5 in d:\\coursework\\assignments\\.venv\\lib\\site-packages (from python-dateutil>=2.8.2->pandas) (1.17.0)\n",
      "Mean calculated: 8.4\n",
      "Median calculated: 8.5\n",
      "mean and median using statistics module:                0\n",
      "count  10.000000\n",
      "mean    8.400000\n",
      "std     3.777124\n",
      "min     3.000000\n",
      "25%     5.500000\n",
      "50%     8.500000\n",
      "75%    10.750000\n",
      "max    15.000000\n"
     ]
    }
   ],
   "source": [
    "#In Quiz 1 of a course the marks obtained by ten students are 12, 4, 5, 3, 8, 7, 10, 15, 9, 11. Write a\n",
    "#python program to calculate the mean and median of the marks obtained by the students. Cross check\n",
    "#he results by importing statistics module in python.\n",
    "\n",
    "!pip install pandas\n",
    "import pandas as pd\n",
    "\n",
    "list_of_marks = [12, 4, 5, 3, 8, 7, 10, 15, 9, 11]\n",
    "def calculate_mean(marks):\n",
    "    return sum(marks) / len(marks)\n",
    "def calculate_median(marks):\n",
    "    sorted_marks = sorted(marks)\n",
    "    n = len(sorted_marks)\n",
    "    mid = n // 2\n",
    "    if n % 2 == 0:\n",
    "        median = (sorted_marks[mid - 1] + sorted_marks[mid]) / 2\n",
    "    else:\n",
    "        median = sorted_marks[mid]\n",
    "    return median\n",
    "\n",
    "print(\"Mean calculated:\", calculate_mean(list_of_marks))\n",
    "print(\"Median calculated:\", calculate_median(list_of_marks))\n",
    "\n",
    "# Cross-checking with statistics module\n",
    "list_marks= pd.DataFrame(list_of_marks)\n",
    "stats_mean_median=list_marks.describe()\n",
    "print(\"mean and median using statistics module:\", stats_mean_median)"
   ]
  },
  {
   "cell_type": "code",
   "execution_count": 18,
   "id": "78d985b9",
   "metadata": {},
   "outputs": [
    {
     "data": {
      "text/plain": [
       "'89'"
      ]
     },
     "execution_count": 18,
     "metadata": {},
     "output_type": "execute_result"
    }
   ],
   "source": [
    "#Find the second largest number in a list without using sort().\n",
    "\n",
    "def second_largest( nums):\n",
    "    nums=list(input(\"Enter numbers separated by space: \").split())\n",
    "    second_largest = max([x \n",
    "                      for x in nums\n",
    "                        if x != max(nums)])\n",
    "    return second_largest\n",
    "\n",
    "second_largest(nums)"
   ]
  },
  {
   "cell_type": "code",
   "execution_count": 20,
   "id": "ad811fad",
   "metadata": {},
   "outputs": [
    {
     "data": {
      "text/plain": [
       "'33'"
      ]
     },
     "execution_count": 20,
     "metadata": {},
     "output_type": "execute_result"
    }
   ],
   "source": [
    "def second_largest( nums):\n",
    "    nums=list(input(\"Enter numbers separated by space: \").split())\n",
    "    nums.remove(max(nums))\n",
    "    return max(nums)\n",
    "second_largest(nums)"
   ]
  },
  {
   "cell_type": "code",
   "execution_count": 32,
   "id": "52f8dd53",
   "metadata": {},
   "outputs": [
    {
     "name": "stdout",
     "output_type": "stream",
     "text": [
      "{2, 3, 5, 37, 7, 41, 11, 43, 13, 47, 17, 19, 23, 29, 31}\n"
     ]
    },
    {
     "data": {
      "text/plain": [
       "[2, 3, 5, 7, 11, 13, 17, 19, 23, 29, 31, 37, 41, 43, 47]"
      ]
     },
     "execution_count": 32,
     "metadata": {},
     "output_type": "execute_result"
    }
   ],
   "source": [
    "#Use sets to find all prime numbers between 1 and 50 Modify the code to take the maximum number from the user.\n",
    "\n",
    "def get_prime():\n",
    "    prime = set()\n",
    "    for x in range(2, 50 + 1):\n",
    "        for y in range(2, int(x**0.5) + 1):\n",
    "            if x % y == 0:\n",
    "                break\n",
    "        else:\n",
    "            prime.add(x)\n",
    "    return prime\n",
    "\n",
    "print(get_prime())\n",
    "\n",
    "\n",
    "def get_primes():\n",
    "    limit = int(input(\"Enter the maximum number: \"))\n",
    "    primes = list()\n",
    "    for x in range(2, limit + 1):\n",
    "        for y in range(2, int(x**0.5) + 1):\n",
    "            if x % y == 0:\n",
    "                break\n",
    "        else:\n",
    "            primes.append(x)\n",
    "    return primes\n",
    "\n",
    "get_primes()\n"
   ]
  }
 ],
 "metadata": {
  "kernelspec": {
   "display_name": ".venv",
   "language": "python",
   "name": "python3"
  },
  "language_info": {
   "codemirror_mode": {
    "name": "ipython",
    "version": 3
   },
   "file_extension": ".py",
   "mimetype": "text/x-python",
   "name": "python",
   "nbconvert_exporter": "python",
   "pygments_lexer": "ipython3",
   "version": "3.13.2"
  }
 },
 "nbformat": 4,
 "nbformat_minor": 5
}
